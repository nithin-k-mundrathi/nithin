{
  "nbformat": 4,
  "nbformat_minor": 0,
  "metadata": {
    "colab": {
      "name": "credicxo_assignment.ipynb",
      "provenance": [],
      "collapsed_sections": []
    },
    "kernelspec": {
      "display_name": "Python 3",
      "language": "python",
      "name": "python3"
    },
    "language_info": {
      "codemirror_mode": {
        "name": "ipython",
        "version": 3
      },
      "file_extension": ".py",
      "mimetype": "text/x-python",
      "name": "python",
      "nbconvert_exporter": "python",
      "pygments_lexer": "ipython3",
      "version": "3.6.8"
    }
  },
  "cells": [
    {
      "cell_type": "markdown",
      "metadata": {
        "id": "mkq3XDuD4HDc",
        "colab_type": "text"
      },
      "source": [
        "### Imports"
      ]
    },
    {
      "cell_type": "code",
      "metadata": {
        "colab_type": "code",
        "id": "OoVKhQ4viAd6",
        "outputId": "6e3b5b32-1e31-4f15-b365-04d9ee27c765",
        "colab": {
          "base_uri": "https://localhost:8080/",
          "height": 191
        }
      },
      "source": [
        "%matplotlib inline\n",
        "import warnings\n",
        "warnings.filterwarnings(\"ignore\")\n",
        "\n",
        "import sqlite3\n",
        "import pandas as pd\n",
        "import numpy as np\n",
        "import nltk\n",
        "import string\n",
        "import matplotlib.pyplot as plt\n",
        "import seaborn as sns\n",
        "from sklearn.feature_extraction.text import TfidfTransformer\n",
        "from sklearn.feature_extraction.text import TfidfVectorizer\n",
        "\n",
        "from sklearn.feature_extraction.text import CountVectorizer\n",
        "from sklearn.metrics import confusion_matrix\n",
        "from sklearn import metrics\n",
        "from sklearn.metrics import roc_curve, auc\n",
        "from nltk.stem.porter import PorterStemmer\n",
        "\n",
        "import re\n",
        "import string\n",
        "from nltk.corpus import stopwords\n",
        "from nltk.stem import PorterStemmer\n",
        "from nltk.stem.wordnet import WordNetLemmatizer\n",
        "\n",
        "from gensim.models import Word2Vec\n",
        "from gensim.models import KeyedVectors\n",
        "import pickle\n",
        "\n",
        "from tqdm import tqdm\n",
        "import os\n",
        "from collections import Counter\n",
        "\n",
        "\n",
        "from google.colab import drive\n",
        "drive.mount('/content/gdrive')\n",
        "\n",
        "import numpy\n",
        "from keras.datasets import imdb\n",
        "from keras.models import Sequential\n",
        "from keras.layers import Dense\n",
        "from keras.layers import LSTM\n",
        "from keras.layers.embeddings import Embedding\n",
        "from keras.preprocessing import sequence\n",
        "# fix random seed for reproducibility\n",
        "numpy.random.seed(7)\n",
        "from numpy import array\n",
        "from numpy import asarray\n",
        "from numpy import zeros\n",
        "from keras.preprocessing.text import Tokenizer\n",
        "from keras.preprocessing.sequence import pad_sequences\n",
        "from keras.models import Sequential\n",
        "from keras.layers import Dense\n",
        "from keras.layers import Flatten\n",
        "\n",
        "from keras.layers import Embedding\n",
        "from keras.layers import Dense,LSTM\n",
        "from keras import Input\n",
        "import numpy as np\n",
        "np.random.seed(0)\n",
        "from keras.models import Model\n",
        "from keras.layers import Dense, Input, Dropout, LSTM, Activation,Reshape\n",
        "from keras.layers.embeddings import Embedding\n",
        "from keras.preprocessing import sequence\n",
        "from keras.initializers import glorot_uniform\n",
        "import keras\n",
        "from keras.models import load_model, Model\n",
        "from keras.layers import Dense, Activation, Dropout, Input, LSTM, Reshape, Lambda, RepeatVector\n",
        "from keras.initializers import glorot_uniform\n",
        "from keras.utils import to_categorical\n",
        "from keras.optimizers import Adam\n",
        "from keras import backend as K\n",
        "from sklearn.metrics import roc_auc_score\n",
        "from sklearn.datasets import make_classification\n",
        "from keras.models import Sequential\n",
        "import tensorflow as tf\n",
        "from sklearn.metrics import roc_auc_score\n",
        " \n",
        "from keras.layers import Dense\n",
        "from keras.utils import np_utils\n",
        "from keras.callbacks import Callback, EarlyStopping\n",
        "\n",
        "\n",
        "from numpy.random import seed\n",
        "seed(1)\n",
        "from tensorflow import set_random_seed\n",
        "set_random_seed(2)"
      ],
      "execution_count": 1,
      "outputs": [
        {
          "output_type": "stream",
          "text": [
            "Go to this URL in a browser: https://accounts.google.com/o/oauth2/auth?client_id=947318989803-6bn6qk8qdgf4n4g3pfee6491hc0brc4i.apps.googleusercontent.com&redirect_uri=urn%3aietf%3awg%3aoauth%3a2.0%3aoob&response_type=code&scope=email%20https%3a%2f%2fwww.googleapis.com%2fauth%2fdocs.test%20https%3a%2f%2fwww.googleapis.com%2fauth%2fdrive%20https%3a%2f%2fwww.googleapis.com%2fauth%2fdrive.photos.readonly%20https%3a%2f%2fwww.googleapis.com%2fauth%2fpeopleapi.readonly\n",
            "\n",
            "Enter your authorization code:\n",
            "··········\n",
            "Mounted at /content/gdrive\n"
          ],
          "name": "stdout"
        },
        {
          "output_type": "stream",
          "text": [
            "Using TensorFlow backend.\n"
          ],
          "name": "stderr"
        },
        {
          "output_type": "display_data",
          "data": {
            "text/html": [
              "<p style=\"color: red;\">\n",
              "The default version of TensorFlow in Colab will soon switch to TensorFlow 2.x.<br>\n",
              "We recommend you <a href=\"https://www.tensorflow.org/guide/migrate\" target=\"_blank\">upgrade</a> now \n",
              "or ensure your notebook will continue to use TensorFlow 1.x via the <code>%tensorflow_version 1.x</code> magic:\n",
              "<a href=\"https://colab.research.google.com/notebooks/tensorflow_version.ipynb\" target=\"_blank\">more info</a>.</p>\n"
            ],
            "text/plain": [
              "<IPython.core.display.HTML object>"
            ]
          },
          "metadata": {
            "tags": []
          }
        }
      ]
    },
    {
      "cell_type": "markdown",
      "metadata": {
        "colab_type": "text",
        "id": "9RMc2StYmmyD"
      },
      "source": [
        "# 1. EDA(Exploratory Data Analysis)"
      ]
    },
    {
      "cell_type": "markdown",
      "metadata": {
        "id": "iMwDODOB59iG",
        "colab_type": "text"
      },
      "source": [
        "\n",
        "1.   We check are there Any Missing  Values in DataFrame \n",
        "2.   Suffle the Dataframe -Rows\n",
        " \n"
      ]
    },
    {
      "cell_type": "code",
      "metadata": {
        "colab_type": "code",
        "id": "x1TiPTkSiYox",
        "colab": {}
      },
      "source": [
        "# load the dataset from google drive\n",
        "musk_df = pd.read_csv('/content/gdrive/My Drive/credicxo/musk_csv.csv')"
      ],
      "execution_count": 0,
      "outputs": []
    },
    {
      "cell_type": "code",
      "metadata": {
        "colab_type": "code",
        "id": "6Esw74yeibid",
        "outputId": "f99c1dc3-8c0c-42a3-c594-65363392c2c7",
        "colab": {
          "base_uri": "https://localhost:8080/",
          "height": 243
        }
      },
      "source": [
        "musk_df.head()"
      ],
      "execution_count": 3,
      "outputs": [
        {
          "output_type": "execute_result",
          "data": {
            "text/html": [
              "<div>\n",
              "<style scoped>\n",
              "    .dataframe tbody tr th:only-of-type {\n",
              "        vertical-align: middle;\n",
              "    }\n",
              "\n",
              "    .dataframe tbody tr th {\n",
              "        vertical-align: top;\n",
              "    }\n",
              "\n",
              "    .dataframe thead th {\n",
              "        text-align: right;\n",
              "    }\n",
              "</style>\n",
              "<table border=\"1\" class=\"dataframe\">\n",
              "  <thead>\n",
              "    <tr style=\"text-align: right;\">\n",
              "      <th></th>\n",
              "      <th>ID</th>\n",
              "      <th>molecule_name</th>\n",
              "      <th>conformation_name</th>\n",
              "      <th>f1</th>\n",
              "      <th>f2</th>\n",
              "      <th>f3</th>\n",
              "      <th>f4</th>\n",
              "      <th>f5</th>\n",
              "      <th>f6</th>\n",
              "      <th>f7</th>\n",
              "      <th>f8</th>\n",
              "      <th>f9</th>\n",
              "      <th>f10</th>\n",
              "      <th>f11</th>\n",
              "      <th>f12</th>\n",
              "      <th>f13</th>\n",
              "      <th>f14</th>\n",
              "      <th>f15</th>\n",
              "      <th>f16</th>\n",
              "      <th>f17</th>\n",
              "      <th>f18</th>\n",
              "      <th>f19</th>\n",
              "      <th>f20</th>\n",
              "      <th>f21</th>\n",
              "      <th>f22</th>\n",
              "      <th>f23</th>\n",
              "      <th>f24</th>\n",
              "      <th>f25</th>\n",
              "      <th>f26</th>\n",
              "      <th>f27</th>\n",
              "      <th>f28</th>\n",
              "      <th>f29</th>\n",
              "      <th>f30</th>\n",
              "      <th>f31</th>\n",
              "      <th>f32</th>\n",
              "      <th>f33</th>\n",
              "      <th>f34</th>\n",
              "      <th>f35</th>\n",
              "      <th>f36</th>\n",
              "      <th>f37</th>\n",
              "      <th>...</th>\n",
              "      <th>f128</th>\n",
              "      <th>f129</th>\n",
              "      <th>f130</th>\n",
              "      <th>f131</th>\n",
              "      <th>f132</th>\n",
              "      <th>f133</th>\n",
              "      <th>f134</th>\n",
              "      <th>f135</th>\n",
              "      <th>f136</th>\n",
              "      <th>f137</th>\n",
              "      <th>f138</th>\n",
              "      <th>f139</th>\n",
              "      <th>f140</th>\n",
              "      <th>f141</th>\n",
              "      <th>f142</th>\n",
              "      <th>f143</th>\n",
              "      <th>f144</th>\n",
              "      <th>f145</th>\n",
              "      <th>f146</th>\n",
              "      <th>f147</th>\n",
              "      <th>f148</th>\n",
              "      <th>f149</th>\n",
              "      <th>f150</th>\n",
              "      <th>f151</th>\n",
              "      <th>f152</th>\n",
              "      <th>f153</th>\n",
              "      <th>f154</th>\n",
              "      <th>f155</th>\n",
              "      <th>f156</th>\n",
              "      <th>f157</th>\n",
              "      <th>f158</th>\n",
              "      <th>f159</th>\n",
              "      <th>f160</th>\n",
              "      <th>f161</th>\n",
              "      <th>f162</th>\n",
              "      <th>f163</th>\n",
              "      <th>f164</th>\n",
              "      <th>f165</th>\n",
              "      <th>f166</th>\n",
              "      <th>class</th>\n",
              "    </tr>\n",
              "  </thead>\n",
              "  <tbody>\n",
              "    <tr>\n",
              "      <th>0</th>\n",
              "      <td>1</td>\n",
              "      <td>MUSK-211</td>\n",
              "      <td>211_1+1</td>\n",
              "      <td>46</td>\n",
              "      <td>-108</td>\n",
              "      <td>-60</td>\n",
              "      <td>-69</td>\n",
              "      <td>-117</td>\n",
              "      <td>49</td>\n",
              "      <td>38</td>\n",
              "      <td>-161</td>\n",
              "      <td>-8</td>\n",
              "      <td>5</td>\n",
              "      <td>-323</td>\n",
              "      <td>-220</td>\n",
              "      <td>-113</td>\n",
              "      <td>-299</td>\n",
              "      <td>-283</td>\n",
              "      <td>-307</td>\n",
              "      <td>-31</td>\n",
              "      <td>-106</td>\n",
              "      <td>-227</td>\n",
              "      <td>-42</td>\n",
              "      <td>-59</td>\n",
              "      <td>-22</td>\n",
              "      <td>-67</td>\n",
              "      <td>189</td>\n",
              "      <td>81</td>\n",
              "      <td>17</td>\n",
              "      <td>-27</td>\n",
              "      <td>-89</td>\n",
              "      <td>-67</td>\n",
              "      <td>105</td>\n",
              "      <td>-116</td>\n",
              "      <td>124</td>\n",
              "      <td>-106</td>\n",
              "      <td>5</td>\n",
              "      <td>-120</td>\n",
              "      <td>63</td>\n",
              "      <td>-165</td>\n",
              "      <td>...</td>\n",
              "      <td>81</td>\n",
              "      <td>-114</td>\n",
              "      <td>-187</td>\n",
              "      <td>45</td>\n",
              "      <td>-118</td>\n",
              "      <td>-75</td>\n",
              "      <td>-182</td>\n",
              "      <td>-234</td>\n",
              "      <td>-19</td>\n",
              "      <td>12</td>\n",
              "      <td>-13</td>\n",
              "      <td>-41</td>\n",
              "      <td>-119</td>\n",
              "      <td>-149</td>\n",
              "      <td>70</td>\n",
              "      <td>17</td>\n",
              "      <td>-20</td>\n",
              "      <td>-177</td>\n",
              "      <td>-101</td>\n",
              "      <td>-116</td>\n",
              "      <td>-14</td>\n",
              "      <td>-50</td>\n",
              "      <td>24</td>\n",
              "      <td>-81</td>\n",
              "      <td>-125</td>\n",
              "      <td>-114</td>\n",
              "      <td>-44</td>\n",
              "      <td>128</td>\n",
              "      <td>3</td>\n",
              "      <td>-244</td>\n",
              "      <td>-308</td>\n",
              "      <td>52</td>\n",
              "      <td>-7</td>\n",
              "      <td>39</td>\n",
              "      <td>126</td>\n",
              "      <td>156</td>\n",
              "      <td>-50</td>\n",
              "      <td>-112</td>\n",
              "      <td>96</td>\n",
              "      <td>1</td>\n",
              "    </tr>\n",
              "    <tr>\n",
              "      <th>1</th>\n",
              "      <td>2</td>\n",
              "      <td>MUSK-211</td>\n",
              "      <td>211_1+10</td>\n",
              "      <td>41</td>\n",
              "      <td>-188</td>\n",
              "      <td>-145</td>\n",
              "      <td>22</td>\n",
              "      <td>-117</td>\n",
              "      <td>-6</td>\n",
              "      <td>57</td>\n",
              "      <td>-171</td>\n",
              "      <td>-39</td>\n",
              "      <td>-100</td>\n",
              "      <td>-319</td>\n",
              "      <td>-111</td>\n",
              "      <td>-228</td>\n",
              "      <td>-281</td>\n",
              "      <td>-281</td>\n",
              "      <td>-300</td>\n",
              "      <td>54</td>\n",
              "      <td>-149</td>\n",
              "      <td>-98</td>\n",
              "      <td>-196</td>\n",
              "      <td>-27</td>\n",
              "      <td>-22</td>\n",
              "      <td>2</td>\n",
              "      <td>75</td>\n",
              "      <td>49</td>\n",
              "      <td>-34</td>\n",
              "      <td>45</td>\n",
              "      <td>-91</td>\n",
              "      <td>32</td>\n",
              "      <td>95</td>\n",
              "      <td>-116</td>\n",
              "      <td>85</td>\n",
              "      <td>-23</td>\n",
              "      <td>42</td>\n",
              "      <td>-58</td>\n",
              "      <td>61</td>\n",
              "      <td>-171</td>\n",
              "      <td>...</td>\n",
              "      <td>88</td>\n",
              "      <td>-21</td>\n",
              "      <td>-32</td>\n",
              "      <td>32</td>\n",
              "      <td>-128</td>\n",
              "      <td>-72</td>\n",
              "      <td>-124</td>\n",
              "      <td>-218</td>\n",
              "      <td>-94</td>\n",
              "      <td>53</td>\n",
              "      <td>-79</td>\n",
              "      <td>-20</td>\n",
              "      <td>-35</td>\n",
              "      <td>-26</td>\n",
              "      <td>4</td>\n",
              "      <td>50</td>\n",
              "      <td>17</td>\n",
              "      <td>-177</td>\n",
              "      <td>-102</td>\n",
              "      <td>-121</td>\n",
              "      <td>-66</td>\n",
              "      <td>-77</td>\n",
              "      <td>51</td>\n",
              "      <td>-41</td>\n",
              "      <td>-34</td>\n",
              "      <td>-32</td>\n",
              "      <td>-63</td>\n",
              "      <td>115</td>\n",
              "      <td>-5</td>\n",
              "      <td>-235</td>\n",
              "      <td>-59</td>\n",
              "      <td>-2</td>\n",
              "      <td>52</td>\n",
              "      <td>103</td>\n",
              "      <td>136</td>\n",
              "      <td>169</td>\n",
              "      <td>-61</td>\n",
              "      <td>-136</td>\n",
              "      <td>79</td>\n",
              "      <td>1</td>\n",
              "    </tr>\n",
              "    <tr>\n",
              "      <th>2</th>\n",
              "      <td>3</td>\n",
              "      <td>MUSK-211</td>\n",
              "      <td>211_1+11</td>\n",
              "      <td>46</td>\n",
              "      <td>-194</td>\n",
              "      <td>-145</td>\n",
              "      <td>28</td>\n",
              "      <td>-117</td>\n",
              "      <td>73</td>\n",
              "      <td>57</td>\n",
              "      <td>-168</td>\n",
              "      <td>-39</td>\n",
              "      <td>-22</td>\n",
              "      <td>-319</td>\n",
              "      <td>-111</td>\n",
              "      <td>-104</td>\n",
              "      <td>-283</td>\n",
              "      <td>-282</td>\n",
              "      <td>-303</td>\n",
              "      <td>52</td>\n",
              "      <td>-152</td>\n",
              "      <td>-97</td>\n",
              "      <td>-225</td>\n",
              "      <td>-28</td>\n",
              "      <td>-22</td>\n",
              "      <td>2</td>\n",
              "      <td>179</td>\n",
              "      <td>49</td>\n",
              "      <td>-33</td>\n",
              "      <td>46</td>\n",
              "      <td>-88</td>\n",
              "      <td>22</td>\n",
              "      <td>79</td>\n",
              "      <td>-116</td>\n",
              "      <td>19</td>\n",
              "      <td>-11</td>\n",
              "      <td>6</td>\n",
              "      <td>-38</td>\n",
              "      <td>71</td>\n",
              "      <td>-175</td>\n",
              "      <td>...</td>\n",
              "      <td>64</td>\n",
              "      <td>0</td>\n",
              "      <td>-23</td>\n",
              "      <td>-15</td>\n",
              "      <td>-129</td>\n",
              "      <td>-74</td>\n",
              "      <td>-125</td>\n",
              "      <td>-221</td>\n",
              "      <td>-93</td>\n",
              "      <td>53</td>\n",
              "      <td>-72</td>\n",
              "      <td>-19</td>\n",
              "      <td>-33</td>\n",
              "      <td>-26</td>\n",
              "      <td>3</td>\n",
              "      <td>49</td>\n",
              "      <td>17</td>\n",
              "      <td>-177</td>\n",
              "      <td>-102</td>\n",
              "      <td>-119</td>\n",
              "      <td>-66</td>\n",
              "      <td>-81</td>\n",
              "      <td>51</td>\n",
              "      <td>-41</td>\n",
              "      <td>-27</td>\n",
              "      <td>-41</td>\n",
              "      <td>-140</td>\n",
              "      <td>77</td>\n",
              "      <td>-163</td>\n",
              "      <td>-238</td>\n",
              "      <td>-134</td>\n",
              "      <td>-154</td>\n",
              "      <td>57</td>\n",
              "      <td>143</td>\n",
              "      <td>142</td>\n",
              "      <td>165</td>\n",
              "      <td>-67</td>\n",
              "      <td>-145</td>\n",
              "      <td>39</td>\n",
              "      <td>1</td>\n",
              "    </tr>\n",
              "    <tr>\n",
              "      <th>3</th>\n",
              "      <td>4</td>\n",
              "      <td>MUSK-211</td>\n",
              "      <td>211_1+12</td>\n",
              "      <td>41</td>\n",
              "      <td>-188</td>\n",
              "      <td>-145</td>\n",
              "      <td>22</td>\n",
              "      <td>-117</td>\n",
              "      <td>-7</td>\n",
              "      <td>57</td>\n",
              "      <td>-170</td>\n",
              "      <td>-39</td>\n",
              "      <td>-99</td>\n",
              "      <td>-319</td>\n",
              "      <td>-111</td>\n",
              "      <td>-228</td>\n",
              "      <td>-282</td>\n",
              "      <td>-281</td>\n",
              "      <td>-301</td>\n",
              "      <td>54</td>\n",
              "      <td>-150</td>\n",
              "      <td>-98</td>\n",
              "      <td>-196</td>\n",
              "      <td>-28</td>\n",
              "      <td>-22</td>\n",
              "      <td>2</td>\n",
              "      <td>77</td>\n",
              "      <td>48</td>\n",
              "      <td>-34</td>\n",
              "      <td>46</td>\n",
              "      <td>-91</td>\n",
              "      <td>32</td>\n",
              "      <td>94</td>\n",
              "      <td>-116</td>\n",
              "      <td>84</td>\n",
              "      <td>-23</td>\n",
              "      <td>41</td>\n",
              "      <td>-58</td>\n",
              "      <td>62</td>\n",
              "      <td>-171</td>\n",
              "      <td>...</td>\n",
              "      <td>88</td>\n",
              "      <td>-20</td>\n",
              "      <td>-32</td>\n",
              "      <td>32</td>\n",
              "      <td>-128</td>\n",
              "      <td>-73</td>\n",
              "      <td>-125</td>\n",
              "      <td>-220</td>\n",
              "      <td>-93</td>\n",
              "      <td>53</td>\n",
              "      <td>-78</td>\n",
              "      <td>-19</td>\n",
              "      <td>-34</td>\n",
              "      <td>-26</td>\n",
              "      <td>4</td>\n",
              "      <td>50</td>\n",
              "      <td>17</td>\n",
              "      <td>-177</td>\n",
              "      <td>-101</td>\n",
              "      <td>-121</td>\n",
              "      <td>-65</td>\n",
              "      <td>-77</td>\n",
              "      <td>52</td>\n",
              "      <td>-41</td>\n",
              "      <td>-34</td>\n",
              "      <td>-32</td>\n",
              "      <td>-66</td>\n",
              "      <td>115</td>\n",
              "      <td>-7</td>\n",
              "      <td>-236</td>\n",
              "      <td>-60</td>\n",
              "      <td>-4</td>\n",
              "      <td>52</td>\n",
              "      <td>104</td>\n",
              "      <td>136</td>\n",
              "      <td>168</td>\n",
              "      <td>-60</td>\n",
              "      <td>-135</td>\n",
              "      <td>80</td>\n",
              "      <td>1</td>\n",
              "    </tr>\n",
              "    <tr>\n",
              "      <th>4</th>\n",
              "      <td>5</td>\n",
              "      <td>MUSK-211</td>\n",
              "      <td>211_1+13</td>\n",
              "      <td>41</td>\n",
              "      <td>-188</td>\n",
              "      <td>-145</td>\n",
              "      <td>22</td>\n",
              "      <td>-117</td>\n",
              "      <td>-7</td>\n",
              "      <td>57</td>\n",
              "      <td>-170</td>\n",
              "      <td>-39</td>\n",
              "      <td>-99</td>\n",
              "      <td>-319</td>\n",
              "      <td>-111</td>\n",
              "      <td>-228</td>\n",
              "      <td>-282</td>\n",
              "      <td>-281</td>\n",
              "      <td>-301</td>\n",
              "      <td>54</td>\n",
              "      <td>-150</td>\n",
              "      <td>-98</td>\n",
              "      <td>-196</td>\n",
              "      <td>-28</td>\n",
              "      <td>-22</td>\n",
              "      <td>2</td>\n",
              "      <td>78</td>\n",
              "      <td>48</td>\n",
              "      <td>-34</td>\n",
              "      <td>46</td>\n",
              "      <td>-91</td>\n",
              "      <td>31</td>\n",
              "      <td>94</td>\n",
              "      <td>-116</td>\n",
              "      <td>84</td>\n",
              "      <td>-23</td>\n",
              "      <td>41</td>\n",
              "      <td>-58</td>\n",
              "      <td>62</td>\n",
              "      <td>-171</td>\n",
              "      <td>...</td>\n",
              "      <td>88</td>\n",
              "      <td>-20</td>\n",
              "      <td>-32</td>\n",
              "      <td>32</td>\n",
              "      <td>-128</td>\n",
              "      <td>-73</td>\n",
              "      <td>-125</td>\n",
              "      <td>-220</td>\n",
              "      <td>-93</td>\n",
              "      <td>53</td>\n",
              "      <td>-78</td>\n",
              "      <td>-19</td>\n",
              "      <td>-34</td>\n",
              "      <td>-26</td>\n",
              "      <td>4</td>\n",
              "      <td>50</td>\n",
              "      <td>17</td>\n",
              "      <td>-177</td>\n",
              "      <td>-101</td>\n",
              "      <td>-121</td>\n",
              "      <td>-65</td>\n",
              "      <td>-76</td>\n",
              "      <td>52</td>\n",
              "      <td>-41</td>\n",
              "      <td>-34</td>\n",
              "      <td>-32</td>\n",
              "      <td>-66</td>\n",
              "      <td>115</td>\n",
              "      <td>-8</td>\n",
              "      <td>-236</td>\n",
              "      <td>-60</td>\n",
              "      <td>-4</td>\n",
              "      <td>52</td>\n",
              "      <td>104</td>\n",
              "      <td>137</td>\n",
              "      <td>168</td>\n",
              "      <td>-60</td>\n",
              "      <td>-135</td>\n",
              "      <td>80</td>\n",
              "      <td>1</td>\n",
              "    </tr>\n",
              "  </tbody>\n",
              "</table>\n",
              "<p>5 rows × 170 columns</p>\n",
              "</div>"
            ],
            "text/plain": [
              "   ID molecule_name conformation_name  f1   f2  ...  f163  f164  f165  f166  class\n",
              "0   1      MUSK-211           211_1+1  46 -108  ...   156   -50  -112    96      1\n",
              "1   2      MUSK-211          211_1+10  41 -188  ...   169   -61  -136    79      1\n",
              "2   3      MUSK-211          211_1+11  46 -194  ...   165   -67  -145    39      1\n",
              "3   4      MUSK-211          211_1+12  41 -188  ...   168   -60  -135    80      1\n",
              "4   5      MUSK-211          211_1+13  41 -188  ...   168   -60  -135    80      1\n",
              "\n",
              "[5 rows x 170 columns]"
            ]
          },
          "metadata": {
            "tags": []
          },
          "execution_count": 3
        }
      ]
    },
    {
      "cell_type": "code",
      "metadata": {
        "colab_type": "code",
        "id": "om-02-STm-Lj",
        "colab": {}
      },
      "source": [
        "# shuffle the dataframe\n",
        "from sklearn.utils import shuffle\n",
        "musk_df = shuffle(musk_df)"
      ],
      "execution_count": 0,
      "outputs": []
    },
    {
      "cell_type": "markdown",
      "metadata": {
        "colab_type": "text",
        "id": "PM7pfJHIngIv"
      },
      "source": [
        "### Check for missing Values in the dataframe"
      ]
    },
    {
      "cell_type": "code",
      "metadata": {
        "colab_type": "code",
        "id": "kv_1JHJintov",
        "outputId": "dbca4072-9fee-4994-eeb4-1115cb0d9f63",
        "colab": {
          "base_uri": "https://localhost:8080/",
          "height": 230
        }
      },
      "source": [
        "musk_df.isnull().any()"
      ],
      "execution_count": 5,
      "outputs": [
        {
          "output_type": "execute_result",
          "data": {
            "text/plain": [
              "ID                   False\n",
              "molecule_name        False\n",
              "conformation_name    False\n",
              "f1                   False\n",
              "f2                   False\n",
              "                     ...  \n",
              "f163                 False\n",
              "f164                 False\n",
              "f165                 False\n",
              "f166                 False\n",
              "class                False\n",
              "Length: 170, dtype: bool"
            ]
          },
          "metadata": {
            "tags": []
          },
          "execution_count": 5
        }
      ]
    },
    {
      "cell_type": "code",
      "metadata": {
        "colab_type": "code",
        "id": "vUugiUDQnRGK",
        "outputId": "5dbdbe17-a41d-4514-fd35-4d201c68be58",
        "colab": {
          "base_uri": "https://localhost:8080/",
          "height": 35
        }
      },
      "source": [
        "if (True in list(musk_df.isnull().any())):\n",
        "  print('Three are few missing Values')\n",
        "else:\n",
        "  print('There are No missing Values in the Dataframe')\n",
        "# there are no missing Values\n",
        "# False implies there are no missing values"
      ],
      "execution_count": 6,
      "outputs": [
        {
          "output_type": "stream",
          "text": [
            "There are No missing Values in the Dataframe\n"
          ],
          "name": "stdout"
        }
      ]
    },
    {
      "cell_type": "markdown",
      "metadata": {
        "colab_type": "text",
        "id": "3OmXY1tyn_BG"
      },
      "source": [
        "# 2. Uni-Variate Analysis"
      ]
    },
    {
      "cell_type": "markdown",
      "metadata": {
        "id": "WrdulHzV6XYY",
        "colab_type": "text"
      },
      "source": [
        "\n",
        "\n",
        "1.   (2.1)-How many points are present and Is the dataset Balanced or Imbalance Dataset.\n",
        "2.   (2.2)-Checking How many categories are present in the molecule_name(categorical Variable)\n",
        "3.   (2.3)-Checking the Distribution of Numerical features to detect Outliers using Box-Plot and PDF-curve's\n",
        "\n"
      ]
    },
    {
      "cell_type": "code",
      "metadata": {
        "colab_type": "code",
        "id": "3l0bnwhWoQz2",
        "outputId": "b50c31dc-1910-439f-ac5a-5946e05335bc",
        "colab": {
          "base_uri": "https://localhost:8080/",
          "height": 328
        }
      },
      "source": [
        "musk_df.head()"
      ],
      "execution_count": 7,
      "outputs": [
        {
          "output_type": "execute_result",
          "data": {
            "text/html": [
              "<div>\n",
              "<style scoped>\n",
              "    .dataframe tbody tr th:only-of-type {\n",
              "        vertical-align: middle;\n",
              "    }\n",
              "\n",
              "    .dataframe tbody tr th {\n",
              "        vertical-align: top;\n",
              "    }\n",
              "\n",
              "    .dataframe thead th {\n",
              "        text-align: right;\n",
              "    }\n",
              "</style>\n",
              "<table border=\"1\" class=\"dataframe\">\n",
              "  <thead>\n",
              "    <tr style=\"text-align: right;\">\n",
              "      <th></th>\n",
              "      <th>ID</th>\n",
              "      <th>molecule_name</th>\n",
              "      <th>conformation_name</th>\n",
              "      <th>f1</th>\n",
              "      <th>f2</th>\n",
              "      <th>f3</th>\n",
              "      <th>f4</th>\n",
              "      <th>f5</th>\n",
              "      <th>f6</th>\n",
              "      <th>f7</th>\n",
              "      <th>f8</th>\n",
              "      <th>f9</th>\n",
              "      <th>f10</th>\n",
              "      <th>f11</th>\n",
              "      <th>f12</th>\n",
              "      <th>f13</th>\n",
              "      <th>f14</th>\n",
              "      <th>f15</th>\n",
              "      <th>f16</th>\n",
              "      <th>f17</th>\n",
              "      <th>f18</th>\n",
              "      <th>f19</th>\n",
              "      <th>f20</th>\n",
              "      <th>f21</th>\n",
              "      <th>f22</th>\n",
              "      <th>f23</th>\n",
              "      <th>f24</th>\n",
              "      <th>f25</th>\n",
              "      <th>f26</th>\n",
              "      <th>f27</th>\n",
              "      <th>f28</th>\n",
              "      <th>f29</th>\n",
              "      <th>f30</th>\n",
              "      <th>f31</th>\n",
              "      <th>f32</th>\n",
              "      <th>f33</th>\n",
              "      <th>f34</th>\n",
              "      <th>f35</th>\n",
              "      <th>f36</th>\n",
              "      <th>f37</th>\n",
              "      <th>...</th>\n",
              "      <th>f128</th>\n",
              "      <th>f129</th>\n",
              "      <th>f130</th>\n",
              "      <th>f131</th>\n",
              "      <th>f132</th>\n",
              "      <th>f133</th>\n",
              "      <th>f134</th>\n",
              "      <th>f135</th>\n",
              "      <th>f136</th>\n",
              "      <th>f137</th>\n",
              "      <th>f138</th>\n",
              "      <th>f139</th>\n",
              "      <th>f140</th>\n",
              "      <th>f141</th>\n",
              "      <th>f142</th>\n",
              "      <th>f143</th>\n",
              "      <th>f144</th>\n",
              "      <th>f145</th>\n",
              "      <th>f146</th>\n",
              "      <th>f147</th>\n",
              "      <th>f148</th>\n",
              "      <th>f149</th>\n",
              "      <th>f150</th>\n",
              "      <th>f151</th>\n",
              "      <th>f152</th>\n",
              "      <th>f153</th>\n",
              "      <th>f154</th>\n",
              "      <th>f155</th>\n",
              "      <th>f156</th>\n",
              "      <th>f157</th>\n",
              "      <th>f158</th>\n",
              "      <th>f159</th>\n",
              "      <th>f160</th>\n",
              "      <th>f161</th>\n",
              "      <th>f162</th>\n",
              "      <th>f163</th>\n",
              "      <th>f164</th>\n",
              "      <th>f165</th>\n",
              "      <th>f166</th>\n",
              "      <th>class</th>\n",
              "    </tr>\n",
              "  </thead>\n",
              "  <tbody>\n",
              "    <tr>\n",
              "      <th>1232</th>\n",
              "      <td>1233</td>\n",
              "      <td>NON-MUSK-192</td>\n",
              "      <td>192_1+35</td>\n",
              "      <td>114</td>\n",
              "      <td>64</td>\n",
              "      <td>-144</td>\n",
              "      <td>-77</td>\n",
              "      <td>-117</td>\n",
              "      <td>11</td>\n",
              "      <td>56</td>\n",
              "      <td>-164</td>\n",
              "      <td>-40</td>\n",
              "      <td>-21</td>\n",
              "      <td>-295</td>\n",
              "      <td>-113</td>\n",
              "      <td>-67</td>\n",
              "      <td>-276</td>\n",
              "      <td>-284</td>\n",
              "      <td>-303</td>\n",
              "      <td>52</td>\n",
              "      <td>-155</td>\n",
              "      <td>-98</td>\n",
              "      <td>-185</td>\n",
              "      <td>-29</td>\n",
              "      <td>-22</td>\n",
              "      <td>2</td>\n",
              "      <td>105</td>\n",
              "      <td>111</td>\n",
              "      <td>-34</td>\n",
              "      <td>48</td>\n",
              "      <td>-88</td>\n",
              "      <td>25</td>\n",
              "      <td>68</td>\n",
              "      <td>-114</td>\n",
              "      <td>157</td>\n",
              "      <td>-32</td>\n",
              "      <td>11</td>\n",
              "      <td>-127</td>\n",
              "      <td>208</td>\n",
              "      <td>-175</td>\n",
              "      <td>...</td>\n",
              "      <td>56</td>\n",
              "      <td>14</td>\n",
              "      <td>-187</td>\n",
              "      <td>25</td>\n",
              "      <td>-138</td>\n",
              "      <td>-76</td>\n",
              "      <td>-128</td>\n",
              "      <td>-222</td>\n",
              "      <td>-94</td>\n",
              "      <td>52</td>\n",
              "      <td>-71</td>\n",
              "      <td>-18</td>\n",
              "      <td>-33</td>\n",
              "      <td>-26</td>\n",
              "      <td>5</td>\n",
              "      <td>49</td>\n",
              "      <td>16</td>\n",
              "      <td>-178</td>\n",
              "      <td>-102</td>\n",
              "      <td>-119</td>\n",
              "      <td>-56</td>\n",
              "      <td>-51</td>\n",
              "      <td>53</td>\n",
              "      <td>-63</td>\n",
              "      <td>-122</td>\n",
              "      <td>-113</td>\n",
              "      <td>82</td>\n",
              "      <td>180</td>\n",
              "      <td>151</td>\n",
              "      <td>-240</td>\n",
              "      <td>-82</td>\n",
              "      <td>-137</td>\n",
              "      <td>33</td>\n",
              "      <td>253</td>\n",
              "      <td>291</td>\n",
              "      <td>144</td>\n",
              "      <td>-57</td>\n",
              "      <td>-117</td>\n",
              "      <td>62</td>\n",
              "      <td>0</td>\n",
              "    </tr>\n",
              "    <tr>\n",
              "      <th>2796</th>\n",
              "      <td>2797</td>\n",
              "      <td>NON-MUSK-252</td>\n",
              "      <td>252_3+133</td>\n",
              "      <td>44</td>\n",
              "      <td>86</td>\n",
              "      <td>15</td>\n",
              "      <td>-77</td>\n",
              "      <td>-117</td>\n",
              "      <td>-131</td>\n",
              "      <td>-163</td>\n",
              "      <td>57</td>\n",
              "      <td>-229</td>\n",
              "      <td>79</td>\n",
              "      <td>-9</td>\n",
              "      <td>-81</td>\n",
              "      <td>46</td>\n",
              "      <td>-66</td>\n",
              "      <td>-100</td>\n",
              "      <td>-52</td>\n",
              "      <td>-213</td>\n",
              "      <td>-45</td>\n",
              "      <td>-73</td>\n",
              "      <td>-37</td>\n",
              "      <td>-159</td>\n",
              "      <td>-180</td>\n",
              "      <td>-219</td>\n",
              "      <td>284</td>\n",
              "      <td>234</td>\n",
              "      <td>-222</td>\n",
              "      <td>-160</td>\n",
              "      <td>-157</td>\n",
              "      <td>-117</td>\n",
              "      <td>38</td>\n",
              "      <td>-117</td>\n",
              "      <td>-35</td>\n",
              "      <td>-21</td>\n",
              "      <td>52</td>\n",
              "      <td>-157</td>\n",
              "      <td>151</td>\n",
              "      <td>-175</td>\n",
              "      <td>...</td>\n",
              "      <td>21</td>\n",
              "      <td>80</td>\n",
              "      <td>-187</td>\n",
              "      <td>-85</td>\n",
              "      <td>-102</td>\n",
              "      <td>-101</td>\n",
              "      <td>-64</td>\n",
              "      <td>-32</td>\n",
              "      <td>-37</td>\n",
              "      <td>-170</td>\n",
              "      <td>-126</td>\n",
              "      <td>-222</td>\n",
              "      <td>-175</td>\n",
              "      <td>-183</td>\n",
              "      <td>-96</td>\n",
              "      <td>-150</td>\n",
              "      <td>-166</td>\n",
              "      <td>-178</td>\n",
              "      <td>-82</td>\n",
              "      <td>-117</td>\n",
              "      <td>24</td>\n",
              "      <td>65</td>\n",
              "      <td>-143</td>\n",
              "      <td>-104</td>\n",
              "      <td>-125</td>\n",
              "      <td>-112</td>\n",
              "      <td>52</td>\n",
              "      <td>2</td>\n",
              "      <td>54</td>\n",
              "      <td>-233</td>\n",
              "      <td>80</td>\n",
              "      <td>-142</td>\n",
              "      <td>9</td>\n",
              "      <td>143</td>\n",
              "      <td>121</td>\n",
              "      <td>162</td>\n",
              "      <td>-66</td>\n",
              "      <td>-148</td>\n",
              "      <td>-12</td>\n",
              "      <td>0</td>\n",
              "    </tr>\n",
              "    <tr>\n",
              "      <th>2213</th>\n",
              "      <td>2214</td>\n",
              "      <td>NON-MUSK-251</td>\n",
              "      <td>251_2+45</td>\n",
              "      <td>45</td>\n",
              "      <td>-198</td>\n",
              "      <td>-123</td>\n",
              "      <td>-7</td>\n",
              "      <td>-102</td>\n",
              "      <td>-38</td>\n",
              "      <td>-50</td>\n",
              "      <td>31</td>\n",
              "      <td>21</td>\n",
              "      <td>-141</td>\n",
              "      <td>-54</td>\n",
              "      <td>-119</td>\n",
              "      <td>-68</td>\n",
              "      <td>-91</td>\n",
              "      <td>-75</td>\n",
              "      <td>-271</td>\n",
              "      <td>87</td>\n",
              "      <td>-91</td>\n",
              "      <td>-90</td>\n",
              "      <td>-74</td>\n",
              "      <td>-65</td>\n",
              "      <td>-47</td>\n",
              "      <td>-78</td>\n",
              "      <td>-60</td>\n",
              "      <td>-95</td>\n",
              "      <td>-104</td>\n",
              "      <td>-136</td>\n",
              "      <td>-157</td>\n",
              "      <td>14</td>\n",
              "      <td>-148</td>\n",
              "      <td>-116</td>\n",
              "      <td>-104</td>\n",
              "      <td>-11</td>\n",
              "      <td>-240</td>\n",
              "      <td>64</td>\n",
              "      <td>115</td>\n",
              "      <td>136</td>\n",
              "      <td>...</td>\n",
              "      <td>-198</td>\n",
              "      <td>-148</td>\n",
              "      <td>112</td>\n",
              "      <td>5</td>\n",
              "      <td>79</td>\n",
              "      <td>-62</td>\n",
              "      <td>-97</td>\n",
              "      <td>-94</td>\n",
              "      <td>52</td>\n",
              "      <td>152</td>\n",
              "      <td>21</td>\n",
              "      <td>-98</td>\n",
              "      <td>-29</td>\n",
              "      <td>-59</td>\n",
              "      <td>82</td>\n",
              "      <td>35</td>\n",
              "      <td>66</td>\n",
              "      <td>-178</td>\n",
              "      <td>-105</td>\n",
              "      <td>-119</td>\n",
              "      <td>-140</td>\n",
              "      <td>-182</td>\n",
              "      <td>-83</td>\n",
              "      <td>-6</td>\n",
              "      <td>63</td>\n",
              "      <td>4</td>\n",
              "      <td>-168</td>\n",
              "      <td>-40</td>\n",
              "      <td>-195</td>\n",
              "      <td>-230</td>\n",
              "      <td>-273</td>\n",
              "      <td>-209</td>\n",
              "      <td>-28</td>\n",
              "      <td>152</td>\n",
              "      <td>122</td>\n",
              "      <td>205</td>\n",
              "      <td>-73</td>\n",
              "      <td>-192</td>\n",
              "      <td>2</td>\n",
              "      <td>0</td>\n",
              "    </tr>\n",
              "    <tr>\n",
              "      <th>3846</th>\n",
              "      <td>3847</td>\n",
              "      <td>NON-MUSK-326</td>\n",
              "      <td>326_2+22</td>\n",
              "      <td>20</td>\n",
              "      <td>-193</td>\n",
              "      <td>-102</td>\n",
              "      <td>32</td>\n",
              "      <td>-117</td>\n",
              "      <td>-53</td>\n",
              "      <td>214</td>\n",
              "      <td>98</td>\n",
              "      <td>-30</td>\n",
              "      <td>-97</td>\n",
              "      <td>-35</td>\n",
              "      <td>-43</td>\n",
              "      <td>-34</td>\n",
              "      <td>-127</td>\n",
              "      <td>-98</td>\n",
              "      <td>-285</td>\n",
              "      <td>49</td>\n",
              "      <td>-56</td>\n",
              "      <td>4</td>\n",
              "      <td>-46</td>\n",
              "      <td>-70</td>\n",
              "      <td>105</td>\n",
              "      <td>21</td>\n",
              "      <td>-47</td>\n",
              "      <td>-96</td>\n",
              "      <td>6</td>\n",
              "      <td>69</td>\n",
              "      <td>-110</td>\n",
              "      <td>-3</td>\n",
              "      <td>-136</td>\n",
              "      <td>-116</td>\n",
              "      <td>-5</td>\n",
              "      <td>62</td>\n",
              "      <td>-203</td>\n",
              "      <td>76</td>\n",
              "      <td>53</td>\n",
              "      <td>-175</td>\n",
              "      <td>...</td>\n",
              "      <td>-167</td>\n",
              "      <td>-83</td>\n",
              "      <td>-8</td>\n",
              "      <td>51</td>\n",
              "      <td>106</td>\n",
              "      <td>-77</td>\n",
              "      <td>-84</td>\n",
              "      <td>-92</td>\n",
              "      <td>-81</td>\n",
              "      <td>18</td>\n",
              "      <td>-108</td>\n",
              "      <td>5</td>\n",
              "      <td>-54</td>\n",
              "      <td>-38</td>\n",
              "      <td>101</td>\n",
              "      <td>209</td>\n",
              "      <td>140</td>\n",
              "      <td>-178</td>\n",
              "      <td>-102</td>\n",
              "      <td>-100</td>\n",
              "      <td>-9</td>\n",
              "      <td>-76</td>\n",
              "      <td>127</td>\n",
              "      <td>123</td>\n",
              "      <td>-12</td>\n",
              "      <td>55</td>\n",
              "      <td>-169</td>\n",
              "      <td>-19</td>\n",
              "      <td>-187</td>\n",
              "      <td>-234</td>\n",
              "      <td>-220</td>\n",
              "      <td>-206</td>\n",
              "      <td>-132</td>\n",
              "      <td>-95</td>\n",
              "      <td>-15</td>\n",
              "      <td>137</td>\n",
              "      <td>-59</td>\n",
              "      <td>-120</td>\n",
              "      <td>29</td>\n",
              "      <td>0</td>\n",
              "    </tr>\n",
              "    <tr>\n",
              "      <th>2706</th>\n",
              "      <td>2707</td>\n",
              "      <td>NON-MUSK-252</td>\n",
              "      <td>252_2+52</td>\n",
              "      <td>53</td>\n",
              "      <td>-98</td>\n",
              "      <td>4</td>\n",
              "      <td>-112</td>\n",
              "      <td>-117</td>\n",
              "      <td>29</td>\n",
              "      <td>-157</td>\n",
              "      <td>67</td>\n",
              "      <td>-237</td>\n",
              "      <td>57</td>\n",
              "      <td>-83</td>\n",
              "      <td>-122</td>\n",
              "      <td>40</td>\n",
              "      <td>-74</td>\n",
              "      <td>22</td>\n",
              "      <td>-248</td>\n",
              "      <td>-176</td>\n",
              "      <td>-80</td>\n",
              "      <td>-47</td>\n",
              "      <td>213</td>\n",
              "      <td>-222</td>\n",
              "      <td>-180</td>\n",
              "      <td>-212</td>\n",
              "      <td>-60</td>\n",
              "      <td>186</td>\n",
              "      <td>-205</td>\n",
              "      <td>-149</td>\n",
              "      <td>-153</td>\n",
              "      <td>-79</td>\n",
              "      <td>256</td>\n",
              "      <td>-103</td>\n",
              "      <td>137</td>\n",
              "      <td>-121</td>\n",
              "      <td>100</td>\n",
              "      <td>-122</td>\n",
              "      <td>75</td>\n",
              "      <td>-145</td>\n",
              "      <td>...</td>\n",
              "      <td>212</td>\n",
              "      <td>12</td>\n",
              "      <td>-185</td>\n",
              "      <td>42</td>\n",
              "      <td>2</td>\n",
              "      <td>-170</td>\n",
              "      <td>-107</td>\n",
              "      <td>-51</td>\n",
              "      <td>89</td>\n",
              "      <td>46</td>\n",
              "      <td>59</td>\n",
              "      <td>-205</td>\n",
              "      <td>-98</td>\n",
              "      <td>-147</td>\n",
              "      <td>56</td>\n",
              "      <td>-83</td>\n",
              "      <td>-99</td>\n",
              "      <td>-178</td>\n",
              "      <td>-104</td>\n",
              "      <td>-114</td>\n",
              "      <td>13</td>\n",
              "      <td>-59</td>\n",
              "      <td>-18</td>\n",
              "      <td>-99</td>\n",
              "      <td>-123</td>\n",
              "      <td>-113</td>\n",
              "      <td>-47</td>\n",
              "      <td>121</td>\n",
              "      <td>-9</td>\n",
              "      <td>32</td>\n",
              "      <td>76</td>\n",
              "      <td>73</td>\n",
              "      <td>-30</td>\n",
              "      <td>-18</td>\n",
              "      <td>101</td>\n",
              "      <td>172</td>\n",
              "      <td>-44</td>\n",
              "      <td>-115</td>\n",
              "      <td>119</td>\n",
              "      <td>0</td>\n",
              "    </tr>\n",
              "  </tbody>\n",
              "</table>\n",
              "<p>5 rows × 170 columns</p>\n",
              "</div>"
            ],
            "text/plain": [
              "        ID molecule_name conformation_name   f1  ...  f164  f165  f166  class\n",
              "1232  1233  NON-MUSK-192          192_1+35  114  ...   -57  -117    62      0\n",
              "2796  2797  NON-MUSK-252         252_3+133   44  ...   -66  -148   -12      0\n",
              "2213  2214  NON-MUSK-251          251_2+45   45  ...   -73  -192     2      0\n",
              "3846  3847  NON-MUSK-326          326_2+22   20  ...   -59  -120    29      0\n",
              "2706  2707  NON-MUSK-252          252_2+52   53  ...   -44  -115   119      0\n",
              "\n",
              "[5 rows x 170 columns]"
            ]
          },
          "metadata": {
            "tags": []
          },
          "execution_count": 7
        }
      ]
    },
    {
      "cell_type": "code",
      "metadata": {
        "colab_type": "code",
        "id": "QWfQDGasoTOt",
        "outputId": "068aca5b-f2cd-4aae-b0b9-8bbd127cd53a",
        "colab": {
          "base_uri": "https://localhost:8080/",
          "height": 124
        }
      },
      "source": [
        "musk_df.columns"
      ],
      "execution_count": 8,
      "outputs": [
        {
          "output_type": "execute_result",
          "data": {
            "text/plain": [
              "Index(['ID', 'molecule_name', 'conformation_name', 'f1', 'f2', 'f3', 'f4',\n",
              "       'f5', 'f6', 'f7',\n",
              "       ...\n",
              "       'f158', 'f159', 'f160', 'f161', 'f162', 'f163', 'f164', 'f165', 'f166',\n",
              "       'class'],\n",
              "      dtype='object', length=170)"
            ]
          },
          "metadata": {
            "tags": []
          },
          "execution_count": 8
        }
      ]
    },
    {
      "cell_type": "markdown",
      "metadata": {
        "colab_type": "text",
        "id": "YE0ExkgeoWRW"
      },
      "source": [
        "molecule_name is a categorical feature<br>conformation_name is a Unique ID which is given to each and Every Compound(No.of.conformation_name = No.of.compunds)<br>conformation_name is a categorical Variable but can be Ignored<br>f1 to f166 are Numerical Features <br>class is output which says whether compound is MUSK (or) NOn-Musk "
      ]
    },
    {
      "cell_type": "markdown",
      "metadata": {
        "colab_type": "text",
        "id": "eU0n6UdEoFaN"
      },
      "source": [
        "### 2.1-pie-chart describing how many organic compounds are musk and non-musk based on their features"
      ]
    },
    {
      "cell_type": "code",
      "metadata": {
        "colab_type": "code",
        "id": "S-9qdh_qnnxl",
        "outputId": "9811c1b0-8a61-49fd-f4b5-3a280e4a499e",
        "colab": {
          "base_uri": "https://localhost:8080/",
          "height": 409
        }
      },
      "source": [
        "# PROVIDE CITATIONS TO YOUR CODE IF YOU TAKE IT FROM ANOTHER WEBSITE.\n",
        "# https://matplotlib.org/gallery/pie_and_polar_charts/pie_and_donut_labels.html#sphx-glr-gallery-pie-and-polar-charts-pie-and-donut-labels-py\n",
        "\n",
        "\n",
        "y_value_counts = musk_df['class'].value_counts()\n",
        "print(\"Number of Musk Compounds \", y_value_counts[1], \", (\", (y_value_counts[1]/(y_value_counts[1]+y_value_counts[0]))*100,\"%)\")\n",
        "print(\"Number of Non-Musk compunds \", y_value_counts[0], \", (\", (y_value_counts[0]/(y_value_counts[1]+y_value_counts[0]))*100,\"%)\")\n",
        "\n",
        "fig, ax = plt.subplots(figsize=(6, 6), subplot_kw=dict(aspect=\"equal\"))\n",
        "recipe = [\"Musk-Compunds\", \"Non-Musk-Compunds\"]\n",
        "\n",
        "data = [y_value_counts[1], y_value_counts[0]]\n",
        "\n",
        "wedges, texts = ax.pie(data, wedgeprops=dict(width=0.5), startangle=-40)\n",
        "\n",
        "bbox_props = dict(boxstyle=\"square,pad=0.3\", fc=\"w\", ec=\"k\", lw=0.72)\n",
        "kw = dict(xycoords='data', textcoords='data', arrowprops=dict(arrowstyle=\"-\"),\n",
        "          bbox=bbox_props, zorder=0, va=\"center\")\n",
        "\n",
        "for i, p in enumerate(wedges):\n",
        "    ang = (p.theta2 - p.theta1)/2. + p.theta1\n",
        "    y = np.sin(np.deg2rad(ang))\n",
        "    x = np.cos(np.deg2rad(ang))\n",
        "    horizontalalignment = {-1: \"right\", 1: \"left\"}[int(np.sign(x))]\n",
        "    connectionstyle = \"angle,angleA=0,angleB={}\".format(ang)\n",
        "    kw[\"arrowprops\"].update({\"connectionstyle\": connectionstyle})\n",
        "    ax.annotate(recipe[i], xy=(x, y), xytext=(1.35*np.sign(x), 1.4*y),\n",
        "                 horizontalalignment=horizontalalignment, **kw)\n",
        "\n",
        "ax.set_title(\"Number compunds that are musk and Non-musk\")\n",
        "\n",
        "plt.show()"
      ],
      "execution_count": 9,
      "outputs": [
        {
          "output_type": "stream",
          "text": [
            "Number of Musk Compounds  1017 , ( 15.413761745983631 %)\n",
            "Number of Non-Musk compunds  5581 , ( 84.58623825401637 %)\n"
          ],
          "name": "stdout"
        },
        {
          "output_type": "display_data",
          "data": {
            "image/png": "[encoded data removed]",
            "text/plain": [
              "<Figure size 432x432 with 1 Axes>"
            ]
          },
          "metadata": {
            "tags": []
          }
        }
      ]
    },
    {
      "cell_type": "markdown",
      "metadata": {
        "id": "jq8pLMni6_LI",
        "colab_type": "text"
      },
      "source": [
        "dataset is Imbalanced "
      ]
    },
    {
      "cell_type": "markdown",
      "metadata": {
        "colab_type": "text",
        "id": "YYnimS4Wo6hM"
      },
      "source": [
        "### 2.2- Univariate Feature Analysis of Molecular_name(categorical feature)"
      ]
    },
    {
      "cell_type": "code",
      "metadata": {
        "colab_type": "code",
        "id": "N6JGcefpo2Jw",
        "colab": {}
      },
      "source": [
        "from collections import Counter\n",
        "my_counter = Counter()\n",
        "# counts how many times a particular molecule(X) occurs in many compounds\n",
        "for word in musk_df['molecule_name'].values:\n",
        "    my_counter.update(word.split())"
      ],
      "execution_count": 0,
      "outputs": []
    },
    {
      "cell_type": "code",
      "metadata": {
        "colab_type": "code",
        "id": "tFzsq9nPpGJj",
        "outputId": "212cf740-40b4-43e4-b720-7f1fd4b7bd9e",
        "colab": {
          "base_uri": "https://localhost:8080/",
          "height": 336
        }
      },
      "source": [
        "# dict sort by value python: https://stackoverflow.com/a/613218/4084039\n",
        "molecule_dict = dict(my_counter)\n",
        "sorted_molecule_dict = dict(sorted(molecule_dict.items(), key=lambda kv: kv[1],reverse=True))\n",
        "\n",
        "\n",
        "ind = np.arange(len(sorted_molecule_dict))\n",
        "plt.figure(figsize=(20,5))\n",
        "p1 = plt.bar(ind, list(sorted_molecule_dict.values()))\n",
        "\n",
        "plt.ylabel('No.of.compunds containing molecule-(X)')\n",
        "plt.title('No.of.compunds containing particular molecule-(X)')\n",
        "plt.xticks(ind, list(sorted_molecule_dict.keys()))\n",
        "plt.show()"
      ],
      "execution_count": 50,
      "outputs": [
        {
          "output_type": "display_data",
          "data": {
            "image/png": "[encoded data removed]",
            "text/plain": [
              "<Figure size 1440x360 with 1 Axes>"
            ]
          },
          "metadata": {
            "tags": []
          }
        }
      ]
    },
    {
      "cell_type": "markdown",
      "metadata": {
        "colab_type": "text",
        "id": "cnaIHgwyptiS"
      },
      "source": [
        "we see a bar graph saying which molecule's are frequently present in the Compund<br>Which Molecule's are rarely present in the compound<br>\n",
        "NON-MUSK-j146  molecule occurs in most no.of.compound's<br>NON-MUSK-j96  molecule occurs in least no.of.compound's"
      ]
    },
    {
      "cell_type": "code",
      "metadata": {
        "colab_type": "code",
        "id": "ly4AyA0HpSD8",
        "outputId": "0e660d94-96c9-4f12-d17b-461314afac11",
        "colab": {
          "base_uri": "https://localhost:8080/",
          "height": 1000
        }
      },
      "source": [
        "for i, j in sorted_molecule_dict.items():\n",
        "    print(\"{:20} :{:10}\".format(i,j))"
      ],
      "execution_count": 12,
      "outputs": [
        {
          "output_type": "stream",
          "text": [
            "NON-MUSK-j146        :      1044\n",
            "NON-MUSK-252         :      1010\n",
            "NON-MUSK-j147        :       911\n",
            "NON-MUSK-f146        :       383\n",
            "NON-MUSK-288         :       344\n",
            "NON-MUSK-192         :       286\n",
            "NON-MUSK-197         :       277\n",
            "MUSK-217             :       215\n",
            "NON-MUSK-326         :       141\n",
            "NON-MUSK-251         :       140\n",
            "NON-MUSK-216         :       135\n",
            "NON-MUSK-233         :       104\n",
            "NON-MUSK-270         :        83\n",
            "MUSK-240             :        82\n",
            "MUSK-213             :        78\n",
            "MUSK-215             :        73\n",
            "MUSK-287             :        64\n",
            "NON-MUSK-f209        :        63\n",
            "NON-MUSK-jp13        :        63\n",
            "NON-MUSK-286         :        59\n",
            "NON-MUSK-220         :        53\n",
            "NON-MUSK-207         :        48\n",
            "MUSK-f158            :        43\n",
            "NON-MUSK-244         :        40\n",
            "MUSK-f152            :        36\n",
            "NON-MUSK-232         :        34\n",
            "MUSK-jf67            :        32\n",
            "MUSK-212             :        31\n",
            "NON-MUSK-249         :        29\n",
            "NON-MUSK-289         :        29\n",
            "MUSK-256             :        29\n",
            "MUSK-214             :        27\n",
            "NON-MUSK-f164        :        27\n",
            "NON-MUSK-210         :        25\n",
            "MUSK-j51             :        25\n",
            "MUSK-jf58            :        22\n",
            "NON-MUSK-199         :        21\n",
            "MUSK-jf59            :        20\n",
            "NON-MUSK-208         :        20\n",
            "MUSK-211             :        19\n",
            "NON-MUSK-j90         :        18\n",
            "MUSK-273             :        18\n",
            "MUSK-228             :        17\n",
            "NON-MUSK-361         :        16\n",
            "NON-MUSK-362         :        16\n",
            "MUSK-333             :        16\n",
            "MUSK-314             :        16\n",
            "MUSK-322             :        16\n",
            "MUSK-284             :        16\n",
            "NON-MUSK-j100        :        14\n",
            "MUSK-jf47            :        14\n",
            "MUSK-219             :        10\n",
            "MUSK-jf17            :        10\n",
            "NON-MUSK-j129        :         8\n",
            "MUSK-323             :         8\n",
            "NON-MUSK-f161        :         8\n",
            "NON-MUSK-j148        :         8\n",
            "NON-MUSK-319         :         8\n",
            "MUSK-294             :         8\n",
            "NON-MUSK-226         :         8\n",
            "MUSK-331             :         8\n",
            "MUSK-j33             :         8\n",
            "MUSK-224             :         8\n",
            "NON-MUSK-328         :         8\n",
            "MUSK-330             :         8\n",
            "NON-MUSK-327         :         8\n",
            "NON-MUSK-200         :         7\n",
            "NON-MUSK-f150        :         6\n",
            "MUSK-jf78            :         6\n",
            "MUSK-jf66            :         6\n",
            "MUSK-jf46            :         6\n",
            "MUSK-238             :         6\n",
            "NON-MUSK-jp10        :         5\n",
            "NON-MUSK-338         :         4\n",
            "NON-MUSK-j83         :         4\n",
            "NON-MUSK-320         :         4\n",
            "MUSK-jf15            :         4\n",
            "NON-MUSK-271         :         4\n",
            "NON-MUSK-j84         :         4\n",
            "MUSK-344             :         4\n",
            "MUSK-321             :         4\n",
            "NON-MUSK-332         :         4\n",
            "NON-MUSK-296         :         4\n",
            "NON-MUSK-j81         :         4\n",
            "NON-MUSK-253         :         4\n",
            "NON-MUSK-360         :         4\n",
            "NON-MUSK-334         :         4\n",
            "NON-MUSK-jf18        :         4\n",
            "NON-MUSK-297         :         4\n",
            "NON-MUSK-jf79        :         4\n",
            "NON-MUSK-290         :         2\n",
            "NON-MUSK-308         :         2\n",
            "MUSK-300             :         2\n",
            "NON-MUSK-295         :         2\n",
            "NON-MUSK-305         :         2\n",
            "NON-MUSK-309         :         2\n",
            "MUSK-306             :         2\n",
            "NON-MUSK-358         :         2\n",
            "NON-MUSK-j130        :         2\n",
            "NON-MUSK-318         :         2\n",
            "NON-MUSK-j97         :         1\n",
            "NON-MUSK-j96         :         1\n"
          ],
          "name": "stdout"
        }
      ]
    },
    {
      "cell_type": "markdown",
      "metadata": {
        "colab_type": "text",
        "id": "9bYAJYrYq2jZ"
      },
      "source": [
        "### 2.3-Visualizing Numerical Features using Box-Plot and thier respective Distribution"
      ]
    },
    {
      "cell_type": "code",
      "metadata": {
        "colab_type": "code",
        "id": "_Fh4T_VLpVx2",
        "colab": {}
      },
      "source": [
        "# https://glowingpython.blogspot.com/2012/09/boxplot-with-matplotlib.html\n",
        "def plot_numerical_feature(X,feature):\n",
        "  musk_feature = X[X['class']==1][feature]\n",
        "  musk_feature = musk_feature.values\n",
        "\n",
        "  non_musk_feature = X[X['class']==0][feature]\n",
        "  non_musk_feature = non_musk_feature.values\n",
        "\n",
        "  plt.figure(1)\n",
        "  plt.boxplot([musk_feature, non_musk_feature])\n",
        "  plt.title('BOX-PLOT of numerical feature of MUSK-compound & NON_MUSK-compound')\n",
        "  plt.xticks([1,2],('MUSK compounds','Non-MUSK compounds'))\n",
        "  plt.ylabel('range of numerical feature of MUSK-compound & NON_MUSK-compound')\n",
        "  plt.grid()\n",
        "\n",
        "\n",
        "  plt.figure(2)\n",
        "  sns.distplot(musk_feature, hist=False, label=\"MUSK compounds\")\n",
        "  sns.distplot(non_musk_feature, hist=False, label=\"Non-MUSK compounds\")\n",
        "  plt.title('PDF of numerical feature of MUSK-compound & NON_MUSK-compound')\n",
        "  plt.xlabel('range of numerical feature of MUSK-compound & NON_MUSK-compound')\n",
        "  plt.legend()\n",
        "  plt.show()"
      ],
      "execution_count": 0,
      "outputs": []
    },
    {
      "cell_type": "markdown",
      "metadata": {
        "colab_type": "text",
        "id": "dsR6P0sitMrO"
      },
      "source": [
        "Visualising the Box-Plot and PDF-Curve for MUSK and Non-MUSK compounds with that particular feature <br>Hlp's us in identifying of  outlier's in that numerical_feature and Inter-Quantile Range<br>Visualising the PDF of that particular numerical_feature to check whether it follows any Distribution "
      ]
    },
    {
      "cell_type": "code",
      "metadata": {
        "id": "Cb1SGLzN7qh0",
        "colab_type": "code",
        "colab": {
          "base_uri": "https://localhost:8080/",
          "height": 672
        },
        "outputId": "7d51703e-4b11-41a3-e90e-3af631aae503"
      },
      "source": [
        "# check the box-plot and PDf curve of any numerical-feature\n",
        "plot_numerical_feature(musk_df,musk_df.columns[105])"
      ],
      "execution_count": 56,
      "outputs": [
        {
          "output_type": "display_data",
          "data": {
            "image/png": "[encoded data removed]",
            "text/plain": [
              "<Figure size 432x288 with 1 Axes>"
            ]
          },
          "metadata": {
            "tags": []
          }
        },
        {
          "output_type": "display_data",
          "data": {
            "image/png": "[encoded data removed]",
            "text/plain": [
              "<Figure size 432x288 with 1 Axes>"
            ]
          },
          "metadata": {
            "tags": []
          }
        }
      ]
    },
    {
      "cell_type": "code",
      "metadata": {
        "colab_type": "code",
        "id": "VavPE9whsUFw",
        "outputId": "78c3af5e-582f-439b-b3c6-38e62f592692",
        "colab": {
          "base_uri": "https://localhost:8080/",
          "height": 672
        }
      },
      "source": [
        "# check the box-plot and PDf curve of any numerical-feature\n",
        "plot_numerical_feature(musk_df,musk_df.columns[25])"
      ],
      "execution_count": 55,
      "outputs": [
        {
          "output_type": "display_data",
          "data": {
            "image/png": "[encoded data removed]",
            "text/plain": [
              "<Figure size 432x288 with 1 Axes>"
            ]
          },
          "metadata": {
            "tags": []
          }
        },
        {
          "output_type": "display_data",
          "data": {
            "image/png": "[encoded data removed]",
            "text/plain": [
              "<Figure size 432x288 with 1 Axes>"
            ]
          },
          "metadata": {
            "tags": []
          }
        }
      ]
    },
    {
      "cell_type": "markdown",
      "metadata": {
        "colab_type": "text",
        "id": "QRqzO6_-t9Yl"
      },
      "source": [
        "# 3. MULTI-COLLINEARITY"
      ]
    },
    {
      "cell_type": "markdown",
      "metadata": {
        "id": "6RSHxK7t7_w1",
        "colab_type": "text"
      },
      "source": [
        "Multi-Collinearity needs to be removed which causes Overfitting<br> We calculate wahts is the co-variance between all numerical features <br>\n",
        "If two features have co-variance(>96) greater than a certain Threshold, we assume theey are similar and one of them should be removed<br>Multi-Collinearity affects weight's of feature's and feature-Importance"
      ]
    },
    {
      "cell_type": "code",
      "metadata": {
        "colab_type": "code",
        "id": "iddEeh76tLJT",
        "outputId": "5a95d438-088c-4c97-c870-af400b742f27",
        "colab": {
          "base_uri": "https://localhost:8080/",
          "height": 35
        }
      },
      "source": [
        "df_numerical = musk_df.drop(['ID','molecule_name','conformation_name','class'],axis=1)\n",
        "df_numerical.shape\n",
        "# only consists of Numerical Features \n",
        "# we drop categorical and other features"
      ],
      "execution_count": 15,
      "outputs": [
        {
          "output_type": "execute_result",
          "data": {
            "text/plain": [
              "(6598, 166)"
            ]
          },
          "metadata": {
            "tags": []
          },
          "execution_count": 15
        }
      ]
    },
    {
      "cell_type": "markdown",
      "metadata": {
        "colab_type": "text",
        "id": "dbUos7Fvumvj"
      },
      "source": [
        "### function to drops the numerical features(columns) which causes Multi-Collinearity based on Threshold"
      ]
    },
    {
      "cell_type": "code",
      "metadata": {
        "colab_type": "code",
        "id": "zrEOw6j4uFPv",
        "colab": {}
      },
      "source": [
        "def remove_multicollinearity(X,threshold):  \n",
        "  corr_matrix = X.corr().abs()\n",
        "\n",
        "  # Select upper triangle of correlation matrix\n",
        "  upper = corr_matrix.where(np.triu(np.ones(corr_matrix.shape), k=1).astype(np.bool))\n",
        "\n",
        "  # Find features with correlation greater than threshold\n",
        "  to_drop = [column for column in upper.columns if any(upper[column] > threshold)]\n",
        "\n",
        "  # Drop features \n",
        "  X_not_collinear = X.drop(to_drop, axis=1)\n",
        "  return X_not_collinear"
      ],
      "execution_count": 0,
      "outputs": []
    },
    {
      "cell_type": "code",
      "metadata": {
        "colab_type": "code",
        "id": "WmGZkaxhu1UF",
        "colab": {}
      },
      "source": [
        "# change the Threshold to check the How much Data are we loosing\n",
        "musk_df_notcollinear = remove_multicollinearity(df_numerical,0.96)"
      ],
      "execution_count": 0,
      "outputs": []
    },
    {
      "cell_type": "code",
      "metadata": {
        "id": "EGfxxqyv4HEi",
        "colab_type": "code",
        "colab": {
          "base_uri": "https://localhost:8080/",
          "height": 35
        },
        "outputId": "86dd96ad-c31c-47b7-8ef0-fe49f52d394b"
      },
      "source": [
        "# check the No.of.features before and after checking Multicollinearity\n",
        "musk_df_notcollinear.shape,df_numerical.shape"
      ],
      "execution_count": 18,
      "outputs": [
        {
          "output_type": "execute_result",
          "data": {
            "text/plain": [
              "((6598, 146), (6598, 166))"
            ]
          },
          "metadata": {
            "tags": []
          },
          "execution_count": 18
        }
      ]
    },
    {
      "cell_type": "markdown",
      "metadata": {
        "colab_type": "text",
        "id": "WBeP8oY0vHzo"
      },
      "source": [
        "If two features are collinear drop any one of the feature <br>Threshold=0.96 says that Two features have 96% similar <br>Having Collinear features results in Overfitting and affects the feature Importance of Model<br>Multi-Collinearity also have affect on weight-vectors of feature's<br>\n",
        "so,we are removing 20 numerical features which cause Multicollinearity<br>Please change the Threshold and check "
      ]
    },
    {
      "cell_type": "markdown",
      "metadata": {
        "colab_type": "text",
        "id": "XyB2kDZvwEre"
      },
      "source": [
        "# 4. DATASET = Categorical features + Numerical features (not collinear)"
      ]
    },
    {
      "cell_type": "markdown",
      "metadata": {
        "id": "ipCJJt6c9BS6",
        "colab_type": "text"
      },
      "source": [
        "Now, Dataset should consists of Numerical features which are not Collinear and also Categorical Features"
      ]
    },
    {
      "cell_type": "code",
      "metadata": {
        "colab_type": "code",
        "id": "xJgTUjbYvB7d",
        "colab": {}
      },
      "source": [
        "dataset = pd.DataFrame(musk_df_notcollinear)"
      ],
      "execution_count": 0,
      "outputs": []
    },
    {
      "cell_type": "code",
      "metadata": {
        "colab_type": "code",
        "id": "i-5PB1MhwgMy",
        "colab": {}
      },
      "source": [
        "dataset['class'] = musk_df['class']\n",
        "dataset['molecule_name'] = musk_df['molecule_name']"
      ],
      "execution_count": 0,
      "outputs": []
    },
    {
      "cell_type": "code",
      "metadata": {
        "colab_type": "code",
        "id": "UEbNc9qlwr8_",
        "outputId": "be311600-b4e1-4dbe-dfc1-69686712dc61",
        "colab": {
          "base_uri": "https://localhost:8080/",
          "height": 328
        }
      },
      "source": [
        "dataset.head()"
      ],
      "execution_count": 21,
      "outputs": [
        {
          "output_type": "execute_result",
          "data": {
            "text/html": [
              "<div>\n",
              "<style scoped>\n",
              "    .dataframe tbody tr th:only-of-type {\n",
              "        vertical-align: middle;\n",
              "    }\n",
              "\n",
              "    .dataframe tbody tr th {\n",
              "        vertical-align: top;\n",
              "    }\n",
              "\n",
              "    .dataframe thead th {\n",
              "        text-align: right;\n",
              "    }\n",
              "</style>\n",
              "<table border=\"1\" class=\"dataframe\">\n",
              "  <thead>\n",
              "    <tr style=\"text-align: right;\">\n",
              "      <th></th>\n",
              "      <th>f1</th>\n",
              "      <th>f2</th>\n",
              "      <th>f3</th>\n",
              "      <th>f4</th>\n",
              "      <th>f5</th>\n",
              "      <th>f6</th>\n",
              "      <th>f7</th>\n",
              "      <th>f8</th>\n",
              "      <th>f9</th>\n",
              "      <th>f10</th>\n",
              "      <th>f11</th>\n",
              "      <th>f12</th>\n",
              "      <th>f13</th>\n",
              "      <th>f14</th>\n",
              "      <th>f15</th>\n",
              "      <th>f16</th>\n",
              "      <th>f17</th>\n",
              "      <th>f18</th>\n",
              "      <th>f19</th>\n",
              "      <th>f20</th>\n",
              "      <th>f21</th>\n",
              "      <th>f22</th>\n",
              "      <th>f23</th>\n",
              "      <th>f24</th>\n",
              "      <th>f25</th>\n",
              "      <th>f26</th>\n",
              "      <th>f27</th>\n",
              "      <th>f28</th>\n",
              "      <th>f29</th>\n",
              "      <th>f30</th>\n",
              "      <th>f31</th>\n",
              "      <th>f32</th>\n",
              "      <th>f33</th>\n",
              "      <th>f34</th>\n",
              "      <th>f35</th>\n",
              "      <th>f36</th>\n",
              "      <th>f37</th>\n",
              "      <th>f38</th>\n",
              "      <th>f39</th>\n",
              "      <th>f40</th>\n",
              "      <th>...</th>\n",
              "      <th>f125</th>\n",
              "      <th>f126</th>\n",
              "      <th>f127</th>\n",
              "      <th>f129</th>\n",
              "      <th>f130</th>\n",
              "      <th>f131</th>\n",
              "      <th>f132</th>\n",
              "      <th>f133</th>\n",
              "      <th>f134</th>\n",
              "      <th>f135</th>\n",
              "      <th>f136</th>\n",
              "      <th>f137</th>\n",
              "      <th>f138</th>\n",
              "      <th>f139</th>\n",
              "      <th>f140</th>\n",
              "      <th>f141</th>\n",
              "      <th>f142</th>\n",
              "      <th>f144</th>\n",
              "      <th>f145</th>\n",
              "      <th>f146</th>\n",
              "      <th>f147</th>\n",
              "      <th>f148</th>\n",
              "      <th>f149</th>\n",
              "      <th>f150</th>\n",
              "      <th>f151</th>\n",
              "      <th>f154</th>\n",
              "      <th>f155</th>\n",
              "      <th>f156</th>\n",
              "      <th>f157</th>\n",
              "      <th>f158</th>\n",
              "      <th>f159</th>\n",
              "      <th>f160</th>\n",
              "      <th>f161</th>\n",
              "      <th>f162</th>\n",
              "      <th>f163</th>\n",
              "      <th>f164</th>\n",
              "      <th>f165</th>\n",
              "      <th>f166</th>\n",
              "      <th>class</th>\n",
              "      <th>molecule_name</th>\n",
              "    </tr>\n",
              "  </thead>\n",
              "  <tbody>\n",
              "    <tr>\n",
              "      <th>1232</th>\n",
              "      <td>114</td>\n",
              "      <td>64</td>\n",
              "      <td>-144</td>\n",
              "      <td>-77</td>\n",
              "      <td>-117</td>\n",
              "      <td>11</td>\n",
              "      <td>56</td>\n",
              "      <td>-164</td>\n",
              "      <td>-40</td>\n",
              "      <td>-21</td>\n",
              "      <td>-295</td>\n",
              "      <td>-113</td>\n",
              "      <td>-67</td>\n",
              "      <td>-276</td>\n",
              "      <td>-284</td>\n",
              "      <td>-303</td>\n",
              "      <td>52</td>\n",
              "      <td>-155</td>\n",
              "      <td>-98</td>\n",
              "      <td>-185</td>\n",
              "      <td>-29</td>\n",
              "      <td>-22</td>\n",
              "      <td>2</td>\n",
              "      <td>105</td>\n",
              "      <td>111</td>\n",
              "      <td>-34</td>\n",
              "      <td>48</td>\n",
              "      <td>-88</td>\n",
              "      <td>25</td>\n",
              "      <td>68</td>\n",
              "      <td>-114</td>\n",
              "      <td>157</td>\n",
              "      <td>-32</td>\n",
              "      <td>11</td>\n",
              "      <td>-127</td>\n",
              "      <td>208</td>\n",
              "      <td>-175</td>\n",
              "      <td>3</td>\n",
              "      <td>-128</td>\n",
              "      <td>39</td>\n",
              "      <td>...</td>\n",
              "      <td>97</td>\n",
              "      <td>5</td>\n",
              "      <td>41</td>\n",
              "      <td>14</td>\n",
              "      <td>-187</td>\n",
              "      <td>25</td>\n",
              "      <td>-138</td>\n",
              "      <td>-76</td>\n",
              "      <td>-128</td>\n",
              "      <td>-222</td>\n",
              "      <td>-94</td>\n",
              "      <td>52</td>\n",
              "      <td>-71</td>\n",
              "      <td>-18</td>\n",
              "      <td>-33</td>\n",
              "      <td>-26</td>\n",
              "      <td>5</td>\n",
              "      <td>16</td>\n",
              "      <td>-178</td>\n",
              "      <td>-102</td>\n",
              "      <td>-119</td>\n",
              "      <td>-56</td>\n",
              "      <td>-51</td>\n",
              "      <td>53</td>\n",
              "      <td>-63</td>\n",
              "      <td>82</td>\n",
              "      <td>180</td>\n",
              "      <td>151</td>\n",
              "      <td>-240</td>\n",
              "      <td>-82</td>\n",
              "      <td>-137</td>\n",
              "      <td>33</td>\n",
              "      <td>253</td>\n",
              "      <td>291</td>\n",
              "      <td>144</td>\n",
              "      <td>-57</td>\n",
              "      <td>-117</td>\n",
              "      <td>62</td>\n",
              "      <td>0</td>\n",
              "      <td>NON-MUSK-192</td>\n",
              "    </tr>\n",
              "    <tr>\n",
              "      <th>2796</th>\n",
              "      <td>44</td>\n",
              "      <td>86</td>\n",
              "      <td>15</td>\n",
              "      <td>-77</td>\n",
              "      <td>-117</td>\n",
              "      <td>-131</td>\n",
              "      <td>-163</td>\n",
              "      <td>57</td>\n",
              "      <td>-229</td>\n",
              "      <td>79</td>\n",
              "      <td>-9</td>\n",
              "      <td>-81</td>\n",
              "      <td>46</td>\n",
              "      <td>-66</td>\n",
              "      <td>-100</td>\n",
              "      <td>-52</td>\n",
              "      <td>-213</td>\n",
              "      <td>-45</td>\n",
              "      <td>-73</td>\n",
              "      <td>-37</td>\n",
              "      <td>-159</td>\n",
              "      <td>-180</td>\n",
              "      <td>-219</td>\n",
              "      <td>284</td>\n",
              "      <td>234</td>\n",
              "      <td>-222</td>\n",
              "      <td>-160</td>\n",
              "      <td>-157</td>\n",
              "      <td>-117</td>\n",
              "      <td>38</td>\n",
              "      <td>-117</td>\n",
              "      <td>-35</td>\n",
              "      <td>-21</td>\n",
              "      <td>52</td>\n",
              "      <td>-157</td>\n",
              "      <td>151</td>\n",
              "      <td>-175</td>\n",
              "      <td>-118</td>\n",
              "      <td>-22</td>\n",
              "      <td>-108</td>\n",
              "      <td>...</td>\n",
              "      <td>-37</td>\n",
              "      <td>58</td>\n",
              "      <td>79</td>\n",
              "      <td>80</td>\n",
              "      <td>-187</td>\n",
              "      <td>-85</td>\n",
              "      <td>-102</td>\n",
              "      <td>-101</td>\n",
              "      <td>-64</td>\n",
              "      <td>-32</td>\n",
              "      <td>-37</td>\n",
              "      <td>-170</td>\n",
              "      <td>-126</td>\n",
              "      <td>-222</td>\n",
              "      <td>-175</td>\n",
              "      <td>-183</td>\n",
              "      <td>-96</td>\n",
              "      <td>-166</td>\n",
              "      <td>-178</td>\n",
              "      <td>-82</td>\n",
              "      <td>-117</td>\n",
              "      <td>24</td>\n",
              "      <td>65</td>\n",
              "      <td>-143</td>\n",
              "      <td>-104</td>\n",
              "      <td>52</td>\n",
              "      <td>2</td>\n",
              "      <td>54</td>\n",
              "      <td>-233</td>\n",
              "      <td>80</td>\n",
              "      <td>-142</td>\n",
              "      <td>9</td>\n",
              "      <td>143</td>\n",
              "      <td>121</td>\n",
              "      <td>162</td>\n",
              "      <td>-66</td>\n",
              "      <td>-148</td>\n",
              "      <td>-12</td>\n",
              "      <td>0</td>\n",
              "      <td>NON-MUSK-252</td>\n",
              "    </tr>\n",
              "    <tr>\n",
              "      <th>2213</th>\n",
              "      <td>45</td>\n",
              "      <td>-198</td>\n",
              "      <td>-123</td>\n",
              "      <td>-7</td>\n",
              "      <td>-102</td>\n",
              "      <td>-38</td>\n",
              "      <td>-50</td>\n",
              "      <td>31</td>\n",
              "      <td>21</td>\n",
              "      <td>-141</td>\n",
              "      <td>-54</td>\n",
              "      <td>-119</td>\n",
              "      <td>-68</td>\n",
              "      <td>-91</td>\n",
              "      <td>-75</td>\n",
              "      <td>-271</td>\n",
              "      <td>87</td>\n",
              "      <td>-91</td>\n",
              "      <td>-90</td>\n",
              "      <td>-74</td>\n",
              "      <td>-65</td>\n",
              "      <td>-47</td>\n",
              "      <td>-78</td>\n",
              "      <td>-60</td>\n",
              "      <td>-95</td>\n",
              "      <td>-104</td>\n",
              "      <td>-136</td>\n",
              "      <td>-157</td>\n",
              "      <td>14</td>\n",
              "      <td>-148</td>\n",
              "      <td>-116</td>\n",
              "      <td>-104</td>\n",
              "      <td>-11</td>\n",
              "      <td>-240</td>\n",
              "      <td>64</td>\n",
              "      <td>115</td>\n",
              "      <td>136</td>\n",
              "      <td>127</td>\n",
              "      <td>-82</td>\n",
              "      <td>17</td>\n",
              "      <td>...</td>\n",
              "      <td>-126</td>\n",
              "      <td>65</td>\n",
              "      <td>-168</td>\n",
              "      <td>-148</td>\n",
              "      <td>112</td>\n",
              "      <td>5</td>\n",
              "      <td>79</td>\n",
              "      <td>-62</td>\n",
              "      <td>-97</td>\n",
              "      <td>-94</td>\n",
              "      <td>52</td>\n",
              "      <td>152</td>\n",
              "      <td>21</td>\n",
              "      <td>-98</td>\n",
              "      <td>-29</td>\n",
              "      <td>-59</td>\n",
              "      <td>82</td>\n",
              "      <td>66</td>\n",
              "      <td>-178</td>\n",
              "      <td>-105</td>\n",
              "      <td>-119</td>\n",
              "      <td>-140</td>\n",
              "      <td>-182</td>\n",
              "      <td>-83</td>\n",
              "      <td>-6</td>\n",
              "      <td>-168</td>\n",
              "      <td>-40</td>\n",
              "      <td>-195</td>\n",
              "      <td>-230</td>\n",
              "      <td>-273</td>\n",
              "      <td>-209</td>\n",
              "      <td>-28</td>\n",
              "      <td>152</td>\n",
              "      <td>122</td>\n",
              "      <td>205</td>\n",
              "      <td>-73</td>\n",
              "      <td>-192</td>\n",
              "      <td>2</td>\n",
              "      <td>0</td>\n",
              "      <td>NON-MUSK-251</td>\n",
              "    </tr>\n",
              "    <tr>\n",
              "      <th>3846</th>\n",
              "      <td>20</td>\n",
              "      <td>-193</td>\n",
              "      <td>-102</td>\n",
              "      <td>32</td>\n",
              "      <td>-117</td>\n",
              "      <td>-53</td>\n",
              "      <td>214</td>\n",
              "      <td>98</td>\n",
              "      <td>-30</td>\n",
              "      <td>-97</td>\n",
              "      <td>-35</td>\n",
              "      <td>-43</td>\n",
              "      <td>-34</td>\n",
              "      <td>-127</td>\n",
              "      <td>-98</td>\n",
              "      <td>-285</td>\n",
              "      <td>49</td>\n",
              "      <td>-56</td>\n",
              "      <td>4</td>\n",
              "      <td>-46</td>\n",
              "      <td>-70</td>\n",
              "      <td>105</td>\n",
              "      <td>21</td>\n",
              "      <td>-47</td>\n",
              "      <td>-96</td>\n",
              "      <td>6</td>\n",
              "      <td>69</td>\n",
              "      <td>-110</td>\n",
              "      <td>-3</td>\n",
              "      <td>-136</td>\n",
              "      <td>-116</td>\n",
              "      <td>-5</td>\n",
              "      <td>62</td>\n",
              "      <td>-203</td>\n",
              "      <td>76</td>\n",
              "      <td>53</td>\n",
              "      <td>-175</td>\n",
              "      <td>22</td>\n",
              "      <td>-144</td>\n",
              "      <td>134</td>\n",
              "      <td>...</td>\n",
              "      <td>-72</td>\n",
              "      <td>25</td>\n",
              "      <td>-110</td>\n",
              "      <td>-83</td>\n",
              "      <td>-8</td>\n",
              "      <td>51</td>\n",
              "      <td>106</td>\n",
              "      <td>-77</td>\n",
              "      <td>-84</td>\n",
              "      <td>-92</td>\n",
              "      <td>-81</td>\n",
              "      <td>18</td>\n",
              "      <td>-108</td>\n",
              "      <td>5</td>\n",
              "      <td>-54</td>\n",
              "      <td>-38</td>\n",
              "      <td>101</td>\n",
              "      <td>140</td>\n",
              "      <td>-178</td>\n",
              "      <td>-102</td>\n",
              "      <td>-100</td>\n",
              "      <td>-9</td>\n",
              "      <td>-76</td>\n",
              "      <td>127</td>\n",
              "      <td>123</td>\n",
              "      <td>-169</td>\n",
              "      <td>-19</td>\n",
              "      <td>-187</td>\n",
              "      <td>-234</td>\n",
              "      <td>-220</td>\n",
              "      <td>-206</td>\n",
              "      <td>-132</td>\n",
              "      <td>-95</td>\n",
              "      <td>-15</td>\n",
              "      <td>137</td>\n",
              "      <td>-59</td>\n",
              "      <td>-120</td>\n",
              "      <td>29</td>\n",
              "      <td>0</td>\n",
              "      <td>NON-MUSK-326</td>\n",
              "    </tr>\n",
              "    <tr>\n",
              "      <th>2706</th>\n",
              "      <td>53</td>\n",
              "      <td>-98</td>\n",
              "      <td>4</td>\n",
              "      <td>-112</td>\n",
              "      <td>-117</td>\n",
              "      <td>29</td>\n",
              "      <td>-157</td>\n",
              "      <td>67</td>\n",
              "      <td>-237</td>\n",
              "      <td>57</td>\n",
              "      <td>-83</td>\n",
              "      <td>-122</td>\n",
              "      <td>40</td>\n",
              "      <td>-74</td>\n",
              "      <td>22</td>\n",
              "      <td>-248</td>\n",
              "      <td>-176</td>\n",
              "      <td>-80</td>\n",
              "      <td>-47</td>\n",
              "      <td>213</td>\n",
              "      <td>-222</td>\n",
              "      <td>-180</td>\n",
              "      <td>-212</td>\n",
              "      <td>-60</td>\n",
              "      <td>186</td>\n",
              "      <td>-205</td>\n",
              "      <td>-149</td>\n",
              "      <td>-153</td>\n",
              "      <td>-79</td>\n",
              "      <td>256</td>\n",
              "      <td>-103</td>\n",
              "      <td>137</td>\n",
              "      <td>-121</td>\n",
              "      <td>100</td>\n",
              "      <td>-122</td>\n",
              "      <td>75</td>\n",
              "      <td>-145</td>\n",
              "      <td>64</td>\n",
              "      <td>-27</td>\n",
              "      <td>35</td>\n",
              "      <td>...</td>\n",
              "      <td>123</td>\n",
              "      <td>68</td>\n",
              "      <td>91</td>\n",
              "      <td>12</td>\n",
              "      <td>-185</td>\n",
              "      <td>42</td>\n",
              "      <td>2</td>\n",
              "      <td>-170</td>\n",
              "      <td>-107</td>\n",
              "      <td>-51</td>\n",
              "      <td>89</td>\n",
              "      <td>46</td>\n",
              "      <td>59</td>\n",
              "      <td>-205</td>\n",
              "      <td>-98</td>\n",
              "      <td>-147</td>\n",
              "      <td>56</td>\n",
              "      <td>-99</td>\n",
              "      <td>-178</td>\n",
              "      <td>-104</td>\n",
              "      <td>-114</td>\n",
              "      <td>13</td>\n",
              "      <td>-59</td>\n",
              "      <td>-18</td>\n",
              "      <td>-99</td>\n",
              "      <td>-47</td>\n",
              "      <td>121</td>\n",
              "      <td>-9</td>\n",
              "      <td>32</td>\n",
              "      <td>76</td>\n",
              "      <td>73</td>\n",
              "      <td>-30</td>\n",
              "      <td>-18</td>\n",
              "      <td>101</td>\n",
              "      <td>172</td>\n",
              "      <td>-44</td>\n",
              "      <td>-115</td>\n",
              "      <td>119</td>\n",
              "      <td>0</td>\n",
              "      <td>NON-MUSK-252</td>\n",
              "    </tr>\n",
              "  </tbody>\n",
              "</table>\n",
              "<p>5 rows × 148 columns</p>\n",
              "</div>"
            ],
            "text/plain": [
              "       f1   f2   f3   f4   f5  ...  f164  f165  f166  class  molecule_name\n",
              "1232  114   64 -144  -77 -117  ...   -57  -117    62      0   NON-MUSK-192\n",
              "2796   44   86   15  -77 -117  ...   -66  -148   -12      0   NON-MUSK-252\n",
              "2213   45 -198 -123   -7 -102  ...   -73  -192     2      0   NON-MUSK-251\n",
              "3846   20 -193 -102   32 -117  ...   -59  -120    29      0   NON-MUSK-326\n",
              "2706   53  -98    4 -112 -117  ...   -44  -115   119      0   NON-MUSK-252\n",
              "\n",
              "[5 rows x 148 columns]"
            ]
          },
          "metadata": {
            "tags": []
          },
          "execution_count": 21
        }
      ]
    },
    {
      "cell_type": "code",
      "metadata": {
        "colab_type": "code",
        "id": "yKNm52yYwuYl",
        "outputId": "4054ed54-a985-4c31-e7f4-5000e5a68a93",
        "colab": {
          "base_uri": "https://localhost:8080/",
          "height": 35
        }
      },
      "source": [
        "dataset.shape"
      ],
      "execution_count": 22,
      "outputs": [
        {
          "output_type": "execute_result",
          "data": {
            "text/plain": [
              "(6598, 148)"
            ]
          },
          "metadata": {
            "tags": []
          },
          "execution_count": 22
        }
      ]
    },
    {
      "cell_type": "markdown",
      "metadata": {
        "colab_type": "text",
        "id": "fsq61jWgxCzU"
      },
      "source": [
        "# 5. MODEL"
      ]
    },
    {
      "cell_type": "markdown",
      "metadata": {
        "id": "iHIyyIkf9NOx",
        "colab_type": "text"
      },
      "source": [
        "\n",
        "\n",
        "\n",
        "\n",
        "1.   (5.1)- train and test splitting the dataset using (80,20)-ratio\n",
        "2.   (5.2)-\n",
        "3.   (5.3)- Creating a Model for Categorical variable(molecule_name) after padding the categorical_variable\n",
        "4.   (5.4)- Normalization of Numerical features\n",
        "5.   (5.5)- Model for Numerical features\n",
        "6.   (5.6)- Concatenate Both Model's and Train the Model\n",
        "\n",
        "\n",
        "\n"
      ]
    },
    {
      "cell_type": "markdown",
      "metadata": {
        "colab_type": "text",
        "id": "JxpdOBJpxh8C"
      },
      "source": [
        "### 5.1-Train and Test Splitting(80-20)"
      ]
    },
    {
      "cell_type": "markdown",
      "metadata": {
        "id": "uJ6NtKao4HEy",
        "colab_type": "text"
      },
      "source": [
        "splitting the dataset into training-data and Test-data"
      ]
    },
    {
      "cell_type": "code",
      "metadata": {
        "colab_type": "code",
        "id": "O1PpVeclwxcR",
        "outputId": "19b986ab-e5b9-410d-9817-5de55e805f82",
        "colab": {
          "base_uri": "https://localhost:8080/",
          "height": 35
        }
      },
      "source": [
        "80 * (6598/100),20 * (6598/100)"
      ],
      "execution_count": 23,
      "outputs": [
        {
          "output_type": "execute_result",
          "data": {
            "text/plain": [
              "(5278.400000000001, 1319.6000000000001)"
            ]
          },
          "metadata": {
            "tags": []
          },
          "execution_count": 23
        }
      ]
    },
    {
      "cell_type": "code",
      "metadata": {
        "colab_type": "code",
        "id": "dH6DSAS9xoz0",
        "colab": {}
      },
      "source": [
        "musk_train = dataset[:5275]"
      ],
      "execution_count": 0,
      "outputs": []
    },
    {
      "cell_type": "code",
      "metadata": {
        "colab_type": "code",
        "id": "IV7DiIh7xqia",
        "colab": {}
      },
      "source": [
        "musk_test = dataset[5275:]"
      ],
      "execution_count": 0,
      "outputs": []
    },
    {
      "cell_type": "code",
      "metadata": {
        "colab_type": "code",
        "id": "_svs0ODCxr8u",
        "colab": {}
      },
      "source": [
        "musk_train = musk_train.reset_index(drop=True)\n",
        "musk_test = musk_test.reset_index(drop=True)"
      ],
      "execution_count": 0,
      "outputs": []
    },
    {
      "cell_type": "markdown",
      "metadata": {
        "id": "ZeubQUxQ4HE8",
        "colab_type": "text"
      },
      "source": [
        "### 5.2- Padding of molecule_name(categorical_variable- CAT2VEC"
      ]
    },
    {
      "cell_type": "markdown",
      "metadata": {
        "id": "zCvTNQub4HE-",
        "colab_type": "text"
      },
      "source": [
        "We could represent the categorical_variable in form of 1.One-hot-Encoding 2.Dense -Embedding<br>I am going to use Dense-embedding which says Intialize each category in categorical_variable with random vectors(n-dim) <br> training and  update the parameters <br>we arrive at solution such that each category in categorical_variable is defined as vector(v) which represent's its dependency on output <br>we are learning vectors-CAT2VEC of each category after Initialising them Randomly <br>\n",
        "Please check fast.ai for more details regarding CAT2VEC"
      ]
    },
    {
      "cell_type": "code",
      "metadata": {
        "colab_type": "code",
        "id": "POzJKDlOxxRE",
        "outputId": "275b58f6-597f-4aef-d54e-c7ac2d9e7691",
        "colab": {
          "base_uri": "https://localhost:8080/",
          "height": 35
        }
      },
      "source": [
        "# total no.of. unique-molecule'spresent in the dataset\n",
        "musk_molecule_name = dataset['molecule_name']\n",
        "len(set(musk_molecule_name))"
      ],
      "execution_count": 27,
      "outputs": [
        {
          "output_type": "execute_result",
          "data": {
            "text/plain": [
              "102"
            ]
          },
          "metadata": {
            "tags": []
          },
          "execution_count": 27
        }
      ]
    },
    {
      "cell_type": "markdown",
      "metadata": {
        "id": "yTLgEvNo4HFC",
        "colab_type": "text"
      },
      "source": [
        "102 unique molecules are present in all the organic compounds"
      ]
    },
    {
      "cell_type": "markdown",
      "metadata": {
        "id": "8u-mSeI54HFD",
        "colab_type": "text"
      },
      "source": [
        "#### padding of molecule's"
      ]
    },
    {
      "cell_type": "markdown",
      "metadata": {
        "id": "JSHi_abZ4HFD",
        "colab_type": "text"
      },
      "source": [
        "Each molecule is padded, which means each molecule is represented with an Index assigned to it<br>The random-vector of each molecule is present in the Embedding's <br>The Vector(Embedding) is accessed using the Index assigned to the each category<br>\n",
        "V1-vector(Embedding) of molecule(X) is accessed using Index assigned to molecule(X)"
      ]
    },
    {
      "cell_type": "code",
      "metadata": {
        "colab_type": "code",
        "id": "n1jj_R7Hx3Xh",
        "colab": {}
      },
      "source": [
        "z = musk_molecule_name.value_counts()\n",
        "z_index = list(z.index)\n",
        "\n",
        "indices = []\n",
        "\n",
        "for j in range(0,len(z_index)):\n",
        "  index_list = []\n",
        "  for i in range(0,len(musk_molecule_name)):\n",
        "    \n",
        "    if(dataset['molecule_name'][i] == z_index[j]):\n",
        "      index_list.append(i)\n",
        "  indices.append(index_list)    \n",
        "  \n",
        "  \n",
        "for i in range(0,len(z_index)):\n",
        "  \n",
        "  dataset['molecule_name'][indices[i]] = i+1"
      ],
      "execution_count": 0,
      "outputs": []
    },
    {
      "cell_type": "code",
      "metadata": {
        "colab_type": "code",
        "id": "fyf8du-hyC8o",
        "colab": {}
      },
      "source": [
        "musk_molecule_input = dataset['molecule_name'][:len(musk_molecule_name)]\n",
        "musk_molecule_input = [[i] for i in list(musk_molecule_input)]"
      ],
      "execution_count": 0,
      "outputs": []
    },
    {
      "cell_type": "markdown",
      "metadata": {
        "id": "LSMOD7Wf4HFI",
        "colab_type": "text"
      },
      "source": [
        "musk_molecule_padded also contains Index of respective molecule"
      ]
    },
    {
      "cell_type": "code",
      "metadata": {
        "colab_type": "code",
        "id": "sepX6a7XyJA3",
        "colab": {}
      },
      "source": [
        "musk_molecule_padded = np.array(musk_molecule_input)"
      ],
      "execution_count": 0,
      "outputs": []
    },
    {
      "cell_type": "code",
      "metadata": {
        "id": "B-ABiZ8447Ah",
        "colab_type": "code",
        "colab": {
          "base_uri": "https://localhost:8080/",
          "height": 141
        },
        "outputId": "c302de9c-5371-44db-f1a4-341a27c2ed65"
      },
      "source": [
        "musk_molecule_padded"
      ],
      "execution_count": 31,
      "outputs": [
        {
          "output_type": "execute_result",
          "data": {
            "text/plain": [
              "array([[ 6],\n",
              "       [ 2],\n",
              "       [10],\n",
              "       ...,\n",
              "       [78],\n",
              "       [ 8],\n",
              "       [ 1]])"
            ]
          },
          "metadata": {
            "tags": []
          },
          "execution_count": 31
        }
      ]
    },
    {
      "cell_type": "markdown",
      "metadata": {
        "id": "MHUXnavI495b",
        "colab_type": "text"
      },
      "source": [
        "Each category of molecule is represented as Index and this Index is used in Embedding to access respective-vector of its category "
      ]
    },
    {
      "cell_type": "markdown",
      "metadata": {
        "id": "PzbAzChB4HFM",
        "colab_type": "text"
      },
      "source": [
        "### 5.3-Model of Categorical Variable"
      ]
    },
    {
      "cell_type": "code",
      "metadata": {
        "colab_type": "code",
        "id": "leuhZpGeyrWs",
        "outputId": "e48b9ca9-3736-4ada-ab53-c5bc6f409f4f",
        "colab": {
          "base_uri": "https://localhost:8080/",
          "height": 144
        }
      },
      "source": [
        "# Input of catgeorical variable(index is represented in dim-1)\n",
        "input_layer_molecule = Input(shape=(1,))\n",
        "# input_length = which is Index\n",
        "# output_dim = vector of each-category is represented in 2-dim Vector(Embedding's)\n",
        "# input_dim = Total No.of.Unique Categories present in the Categorical-Variable\n",
        "embedding_molecule = Embedding(input_dim=102+1,output_dim= 2, input_length=1)(input_layer_molecule)\n",
        "# Flatten- Convert 3-dim output into 2-D output\n",
        "flatten_molecule = Flatten()(embedding_molecule)"
      ],
      "execution_count": 32,
      "outputs": [
        {
          "output_type": "stream",
          "text": [
            "WARNING:tensorflow:From /usr/local/lib/python3.6/dist-packages/keras/backend/tensorflow_backend.py:66: The name tf.get_default_graph is deprecated. Please use tf.compat.v1.get_default_graph instead.\n",
            "\n",
            "WARNING:tensorflow:From /usr/local/lib/python3.6/dist-packages/keras/backend/tensorflow_backend.py:541: The name tf.placeholder is deprecated. Please use tf.compat.v1.placeholder instead.\n",
            "\n",
            "WARNING:tensorflow:From /usr/local/lib/python3.6/dist-packages/keras/backend/tensorflow_backend.py:4432: The name tf.random_uniform is deprecated. Please use tf.random.uniform instead.\n",
            "\n"
          ],
          "name": "stdout"
        }
      ]
    },
    {
      "cell_type": "markdown",
      "metadata": {
        "id": "SSBsY-fz4HFQ",
        "colab_type": "text"
      },
      "source": [
        "flatten_molecule contains vector representation of each Molecule present in the Categorical Variable"
      ]
    },
    {
      "cell_type": "markdown",
      "metadata": {
        "id": "erCyCUfq4HFQ",
        "colab_type": "text"
      },
      "source": [
        "### 5.4-Dense Layers using Numerical data Only"
      ]
    },
    {
      "cell_type": "code",
      "metadata": {
        "colab_type": "code",
        "id": "HT7O49Bjy3yT",
        "colab": {}
      },
      "source": [
        "# removing categorical data and storing only Numerical data\n",
        "musk_numerical_train = musk_train.drop(['class','molecule_name'],axis=1)\n",
        "musk_numerical_test = musk_test.drop(['class','molecule_name'],axis=1)"
      ],
      "execution_count": 0,
      "outputs": []
    },
    {
      "cell_type": "code",
      "metadata": {
        "colab_type": "code",
        "id": "by7W8nUoy7zS",
        "outputId": "a359dc4d-87a0-47bf-ed66-6967fb05bb18",
        "colab": {
          "base_uri": "https://localhost:8080/",
          "height": 35
        }
      },
      "source": [
        "musk_train.shape,musk_test.shape"
      ],
      "execution_count": 34,
      "outputs": [
        {
          "output_type": "execute_result",
          "data": {
            "text/plain": [
              "((5275, 148), (1323, 148))"
            ]
          },
          "metadata": {
            "tags": []
          },
          "execution_count": 34
        }
      ]
    },
    {
      "cell_type": "markdown",
      "metadata": {
        "id": "zm4nFV4C4HFV",
        "colab_type": "text"
      },
      "source": [
        "#### Normalisation of Numerical features "
      ]
    },
    {
      "cell_type": "markdown",
      "metadata": {
        "id": "Snkqrzj_4HFW",
        "colab_type": "text"
      },
      "source": [
        "Normalisation needs to be done to Input passing into Dense-Layer<br>Because  as we use 'relu' activation the Input gets Neglected if input<0"
      ]
    },
    {
      "cell_type": "code",
      "metadata": {
        "colab_type": "code",
        "id": "lUj-U9_gy9i0",
        "colab": {}
      },
      "source": [
        "from scipy.sparse import hstack\n",
        "from sklearn import preprocessing\n",
        "\n",
        "min_max_scaler= preprocessing.MinMaxScaler()\n",
        "musk_numerical_train = min_max_scaler.fit_transform(musk_numerical_train)\n",
        "musk_numerical_test = min_max_scaler.transform(musk_numerical_test)"
      ],
      "execution_count": 0,
      "outputs": []
    },
    {
      "cell_type": "markdown",
      "metadata": {
        "id": "M-Lxr8Hh4HFa",
        "colab_type": "text"
      },
      "source": [
        "### 5.5-MODEL of Numerical-Features"
      ]
    },
    {
      "cell_type": "code",
      "metadata": {
        "colab_type": "code",
        "id": "fIDaQ5Lcy_Q6",
        "colab": {}
      },
      "source": [
        "numerical_input = Input(shape=(musk_numerical_train.shape[1], ), dtype='float32')\n",
        "numerical_dense = Dense(64, activation='relu')(numerical_input)"
      ],
      "execution_count": 0,
      "outputs": []
    },
    {
      "cell_type": "markdown",
      "metadata": {
        "id": "91leExbp4HFd",
        "colab_type": "text"
      },
      "source": [
        "numerical_data is represented in  64-dim vector"
      ]
    },
    {
      "cell_type": "markdown",
      "metadata": {
        "id": "O3UpipiX4HFg",
        "colab_type": "text"
      },
      "source": [
        "### 5.6-Concatenate MODEL's(Categorical-Model + Numerical Model)"
      ]
    },
    {
      "cell_type": "code",
      "metadata": {
        "colab_type": "code",
        "id": "4wfybH02zCPA",
        "colab": {}
      },
      "source": [
        "# concatenate the output's of their respective model's\n",
        "\n",
        "cat_num_concatenate = keras.layers.concatenate([flatten_molecule,\n",
        "                                          numerical_dense],axis=-1)"
      ],
      "execution_count": 0,
      "outputs": []
    },
    {
      "cell_type": "code",
      "metadata": {
        "colab_type": "code",
        "id": "LZWDvvcazGut",
        "outputId": "93099097-f467-4083-ef78-d41b1a9fe903",
        "colab": {
          "base_uri": "https://localhost:8080/",
          "height": 126
        }
      },
      "source": [
        "# Add few Dense Layer's at the end\n",
        "Dense_1 = Dense(32, activation='relu')(cat_num_concatenate)\n",
        "dropout_1 = Dropout(0.25)(Dense_1)\n",
        "Dense_2 = Dense(16, activation='relu')(dropout_1)\n",
        "dropout_2 = Dropout(0.5)(Dense_2)\n",
        "Dense_3 = Dense(8, activation='relu')(dropout_2)\n",
        "predictions = Dense(2, activation='sigmoid')(Dense_3)"
      ],
      "execution_count": 38,
      "outputs": [
        {
          "output_type": "stream",
          "text": [
            "WARNING:tensorflow:From /usr/local/lib/python3.6/dist-packages/keras/backend/tensorflow_backend.py:148: The name tf.placeholder_with_default is deprecated. Please use tf.compat.v1.placeholder_with_default instead.\n",
            "\n",
            "WARNING:tensorflow:From /usr/local/lib/python3.6/dist-packages/keras/backend/tensorflow_backend.py:3733: calling dropout (from tensorflow.python.ops.nn_ops) with keep_prob is deprecated and will be removed in a future version.\n",
            "Instructions for updating:\n",
            "Please use `rate` instead of `keep_prob`. Rate should be set to `rate = 1 - keep_prob`.\n"
          ],
          "name": "stdout"
        }
      ]
    },
    {
      "cell_type": "markdown",
      "metadata": {
        "id": "8jYyDg5y4HFl",
        "colab_type": "text"
      },
      "source": [
        "#### Input's and output's of Model's"
      ]
    },
    {
      "cell_type": "code",
      "metadata": {
        "colab_type": "code",
        "id": "oKsfK1HnzLxF",
        "colab": {}
      },
      "source": [
        "input_all = [input_layer_molecule,numerical_input]\n",
        "model_1 = Model(inputs= input_all, outputs = predictions)   "
      ],
      "execution_count": 0,
      "outputs": []
    },
    {
      "cell_type": "code",
      "metadata": {
        "colab_type": "code",
        "id": "nYSJoRUOzOvB",
        "outputId": "8beb713b-b00c-4d11-c6d2-b2e5b8603ee1",
        "colab": {
          "base_uri": "https://localhost:8080/",
          "height": 604
        }
      },
      "source": [
        "model_1.summary()"
      ],
      "execution_count": 40,
      "outputs": [
        {
          "output_type": "stream",
          "text": [
            "Model: \"model_1\"\n",
            "__________________________________________________________________________________________________\n",
            "Layer (type)                    Output Shape         Param #     Connected to                     \n",
            "==================================================================================================\n",
            "input_1 (InputLayer)            (None, 1)            0                                            \n",
            "__________________________________________________________________________________________________\n",
            "embedding_1 (Embedding)         (None, 1, 2)         206         input_1[0][0]                    \n",
            "__________________________________________________________________________________________________\n",
            "input_2 (InputLayer)            (None, 146)          0                                            \n",
            "__________________________________________________________________________________________________\n",
            "flatten_1 (Flatten)             (None, 2)            0           embedding_1[0][0]                \n",
            "__________________________________________________________________________________________________\n",
            "dense_1 (Dense)                 (None, 64)           9408        input_2[0][0]                    \n",
            "__________________________________________________________________________________________________\n",
            "concatenate_1 (Concatenate)     (None, 66)           0           flatten_1[0][0]                  \n",
            "                                                                 dense_1[0][0]                    \n",
            "__________________________________________________________________________________________________\n",
            "dense_2 (Dense)                 (None, 32)           2144        concatenate_1[0][0]              \n",
            "__________________________________________________________________________________________________\n",
            "dropout_1 (Dropout)             (None, 32)           0           dense_2[0][0]                    \n",
            "__________________________________________________________________________________________________\n",
            "dense_3 (Dense)                 (None, 16)           528         dropout_1[0][0]                  \n",
            "__________________________________________________________________________________________________\n",
            "dropout_2 (Dropout)             (None, 16)           0           dense_3[0][0]                    \n",
            "__________________________________________________________________________________________________\n",
            "dense_4 (Dense)                 (None, 8)            136         dropout_2[0][0]                  \n",
            "__________________________________________________________________________________________________\n",
            "dense_5 (Dense)                 (None, 2)            18          dense_4[0][0]                    \n",
            "==================================================================================================\n",
            "Total params: 12,440\n",
            "Trainable params: 12,440\n",
            "Non-trainable params: 0\n",
            "__________________________________________________________________________________________________\n"
          ],
          "name": "stdout"
        }
      ]
    },
    {
      "cell_type": "markdown",
      "metadata": {
        "id": "62oJidei4HFs",
        "colab_type": "text"
      },
      "source": [
        "#### Image Describing the Model"
      ]
    },
    {
      "cell_type": "code",
      "metadata": {
        "colab_type": "code",
        "id": "TvP2u4zZzUEs",
        "outputId": "ea26f525-f543-4b45-b18a-f41f957fbc67",
        "colab": {
          "base_uri": "https://localhost:8080/",
          "height": 953
        }
      },
      "source": [
        "from keras.utils import plot_model\n",
        "plot_model(model_1, to_file='model.png')"
      ],
      "execution_count": 41,
      "outputs": [
        {
          "output_type": "execute_result",
          "data": {
            "image/png": "[encoded data removed]",
            "text/plain": [
              "<IPython.core.display.Image object>"
            ]
          },
          "metadata": {
            "tags": []
          },
          "execution_count": 41
        }
      ]
    },
    {
      "cell_type": "code",
      "metadata": {
        "colab_type": "code",
        "id": "Mg0_UFPIzaeY",
        "outputId": "c1166a85-7251-4f8e-81ae-a5d86f64876f",
        "colab": {
          "base_uri": "https://localhost:8080/",
          "height": 108
        }
      },
      "source": [
        "# compile the model\n",
        "opt = Adam(lr=0.01, beta_1=0.9, beta_2=0.999, decay=0.01)\n",
        "model_1.compile(optimizer='adam', loss='categorical_crossentropy', metrics=['accuracy'])"
      ],
      "execution_count": 42,
      "outputs": [
        {
          "output_type": "stream",
          "text": [
            "WARNING:tensorflow:From /usr/local/lib/python3.6/dist-packages/keras/optimizers.py:793: The name tf.train.Optimizer is deprecated. Please use tf.compat.v1.train.Optimizer instead.\n",
            "\n",
            "WARNING:tensorflow:From /usr/local/lib/python3.6/dist-packages/keras/backend/tensorflow_backend.py:3576: The name tf.log is deprecated. Please use tf.math.log instead.\n",
            "\n"
          ],
          "name": "stdout"
        }
      ]
    },
    {
      "cell_type": "markdown",
      "metadata": {
        "id": "PZI-5t4a4HFx",
        "colab_type": "text"
      },
      "source": [
        "#### Creating a CheckPoint for Model"
      ]
    },
    {
      "cell_type": "code",
      "metadata": {
        "colab_type": "code",
        "id": "g39N9qrUzdoz",
        "colab": {}
      },
      "source": [
        "# creating a model checkpoint which monitirs the training Loss \n",
        "from keras.callbacks import ModelCheckpoint\n",
        "# Model stores the Parameters of Best Model which has low training-Loss\n",
        "filepath = \"/content/gdrive/My Drive/credicxo/weights_full_train-{epoch:02d}-{val_acc:.2f}.hdf5\"\n",
        "checkpoint = ModelCheckpoint(filepath, monitor='val_loss', verbose=1, save_best_only=True, mode='min')\n",
        "callbacks_list = [checkpoint]"
      ],
      "execution_count": 0,
      "outputs": []
    },
    {
      "cell_type": "code",
      "metadata": {
        "colab_type": "code",
        "id": "mOmaP5UkzyPO",
        "outputId": "581b35cf-2b62-4e23-8d09-bc87634da0bc",
        "colab": {
          "base_uri": "https://localhost:8080/",
          "height": 35
        }
      },
      "source": [
        "from sklearn.preprocessing import OneHotEncoder\n",
        "onehot_encoder = OneHotEncoder()\n",
        "\n",
        "y_encoded = onehot_encoder.fit_transform(musk_df[['class']]).toarray()\n",
        "print('outputs_encoded.shape after One Hot Encode', y_encoded.shape)"
      ],
      "execution_count": 43,
      "outputs": [
        {
          "output_type": "stream",
          "text": [
            "outputs_encoded.shape after One Hot Encode (6598, 2)\n"
          ],
          "name": "stdout"
        }
      ]
    },
    {
      "cell_type": "markdown",
      "metadata": {
        "id": "4B6xmCEt4HF2",
        "colab_type": "text"
      },
      "source": [
        "### 5.7 Training the Model using Training-Data"
      ]
    },
    {
      "cell_type": "code",
      "metadata": {
        "colab_type": "code",
        "id": "oAl6aMXwzh4R",
        "outputId": "8017d1f6-71c4-4197-fbb5-f8696d94c751",
        "colab": {
          "base_uri": "https://localhost:8080/",
          "height": 1000
        }
      },
      "source": [
        "history = model_1.fit([musk_molecule_padded[:5275],musk_numerical_train],y_encoded[:5275],\n",
        "            validation_data=([musk_molecule_padded[5275:],musk_numerical_test],y_encoded[5275:]),\n",
        "            epochs=10,\n",
        "            batch_size=64,\n",
        "            callbacks=callbacks_list)"
      ],
      "execution_count": 0,
      "outputs": [
        {
          "output_type": "stream",
          "text": [
            "WARNING:tensorflow:From /usr/local/lib/python3.6/dist-packages/tensorflow_core/python/ops/math_grad.py:1424: where (from tensorflow.python.ops.array_ops) is deprecated and will be removed in a future version.\n",
            "Instructions for updating:\n",
            "Use tf.where in 2.0, which has the same broadcast rule as np.where\n",
            "WARNING:tensorflow:From /usr/local/lib/python3.6/dist-packages/keras/backend/tensorflow_backend.py:1033: The name tf.assign_add is deprecated. Please use tf.compat.v1.assign_add instead.\n",
            "\n",
            "WARNING:tensorflow:From /usr/local/lib/python3.6/dist-packages/keras/backend/tensorflow_backend.py:1020: The name tf.assign is deprecated. Please use tf.compat.v1.assign instead.\n",
            "\n",
            "WARNING:tensorflow:From /usr/local/lib/python3.6/dist-packages/keras/backend/tensorflow_backend.py:3005: The name tf.Session is deprecated. Please use tf.compat.v1.Session instead.\n",
            "\n",
            "Train on 5275 samples, validate on 1323 samples\n",
            "Epoch 1/10\n",
            "WARNING:tensorflow:From /usr/local/lib/python3.6/dist-packages/keras/backend/tensorflow_backend.py:190: The name tf.get_default_session is deprecated. Please use tf.compat.v1.get_default_session instead.\n",
            "\n",
            "WARNING:tensorflow:From /usr/local/lib/python3.6/dist-packages/keras/backend/tensorflow_backend.py:197: The name tf.ConfigProto is deprecated. Please use tf.compat.v1.ConfigProto instead.\n",
            "\n",
            "WARNING:tensorflow:From /usr/local/lib/python3.6/dist-packages/keras/backend/tensorflow_backend.py:207: The name tf.global_variables is deprecated. Please use tf.compat.v1.global_variables instead.\n",
            "\n",
            "WARNING:tensorflow:From /usr/local/lib/python3.6/dist-packages/keras/backend/tensorflow_backend.py:216: The name tf.is_variable_initialized is deprecated. Please use tf.compat.v1.is_variable_initialized instead.\n",
            "\n",
            "WARNING:tensorflow:From /usr/local/lib/python3.6/dist-packages/keras/backend/tensorflow_backend.py:223: The name tf.variables_initializer is deprecated. Please use tf.compat.v1.variables_initializer instead.\n",
            "\n",
            "5275/5275 [==============================] - 1s 114us/step - loss: 0.4557 - acc: 0.8436 - val_loss: 0.3852 - val_acc: 0.8450\n",
            "\n",
            "Epoch 00001: val_loss improved from inf to 0.38515, saving model to /content/gdrive/My Drive/credicxo/weights_full_train-01-0.85.hdf5\n",
            "Epoch 2/10\n",
            "5275/5275 [==============================] - 0s 34us/step - loss: 0.3433 - acc: 0.8461 - val_loss: 0.2463 - val_acc: 0.8450\n",
            "\n",
            "Epoch 00002: val_loss improved from 0.38515 to 0.24632, saving model to /content/gdrive/My Drive/credicxo/weights_full_train-02-0.85.hdf5\n",
            "Epoch 3/10\n",
            "5275/5275 [==============================] - 0s 38us/step - loss: 0.2203 - acc: 0.8709 - val_loss: 0.1493 - val_acc: 0.9660\n",
            "\n",
            "Epoch 00003: val_loss improved from 0.24632 to 0.14932, saving model to /content/gdrive/My Drive/credicxo/weights_full_train-03-0.97.hdf5\n",
            "Epoch 4/10\n",
            "5275/5275 [==============================] - 0s 36us/step - loss: 0.1356 - acc: 0.9501 - val_loss: 0.0824 - val_acc: 0.9909\n",
            "\n",
            "Epoch 00004: val_loss improved from 0.14932 to 0.08236, saving model to /content/gdrive/My Drive/credicxo/weights_full_train-04-0.99.hdf5\n",
            "Epoch 5/10\n",
            "5275/5275 [==============================] - 0s 36us/step - loss: 0.0770 - acc: 0.9845 - val_loss: 0.0386 - val_acc: 0.9962\n",
            "\n",
            "Epoch 00005: val_loss improved from 0.08236 to 0.03864, saving model to /content/gdrive/My Drive/credicxo/weights_full_train-05-1.00.hdf5\n",
            "Epoch 6/10\n",
            "5275/5275 [==============================] - 0s 32us/step - loss: 0.0350 - acc: 0.9922 - val_loss: 0.0154 - val_acc: 0.9962\n",
            "\n",
            "Epoch 00006: val_loss improved from 0.03864 to 0.01539, saving model to /content/gdrive/My Drive/credicxo/weights_full_train-06-1.00.hdf5\n",
            "Epoch 7/10\n",
            "5275/5275 [==============================] - 0s 32us/step - loss: 0.0161 - acc: 0.9972 - val_loss: 0.0141 - val_acc: 0.9947\n",
            "\n",
            "Epoch 00007: val_loss improved from 0.01539 to 0.01407, saving model to /content/gdrive/My Drive/credicxo/weights_full_train-07-0.99.hdf5\n",
            "Epoch 8/10\n",
            "5275/5275 [==============================] - 0s 37us/step - loss: 0.0154 - acc: 0.9970 - val_loss: 0.0030 - val_acc: 1.0000\n",
            "\n",
            "Epoch 00008: val_loss improved from 0.01407 to 0.00298, saving model to /content/gdrive/My Drive/credicxo/weights_full_train-08-1.00.hdf5\n",
            "Epoch 9/10\n",
            "5275/5275 [==============================] - 0s 35us/step - loss: 0.0117 - acc: 0.9983 - val_loss: 0.0018 - val_acc: 1.0000\n",
            "\n",
            "Epoch 00009: val_loss improved from 0.00298 to 0.00183, saving model to /content/gdrive/My Drive/credicxo/weights_full_train-09-1.00.hdf5\n",
            "Epoch 10/10\n",
            "5275/5275 [==============================] - 0s 33us/step - loss: 0.0090 - acc: 0.9989 - val_loss: 7.2661e-04 - val_acc: 1.0000\n",
            "\n",
            "Epoch 00010: val_loss improved from 0.00183 to 0.00073, saving model to /content/gdrive/My Drive/credicxo/weights_full_train-10-1.00.hdf5\n"
          ],
          "name": "stdout"
        }
      ]
    },
    {
      "cell_type": "markdown",
      "metadata": {
        "id": "loAMvMF--XbM",
        "colab_type": "text"
      },
      "source": [
        "# 6. MODEL-Plot's and Report"
      ]
    },
    {
      "cell_type": "markdown",
      "metadata": {
        "id": "FSgaQ6gd4HF5",
        "colab_type": "text"
      },
      "source": [
        "### 6.1-lot's Describing the Train,test-Accuracy of Model and Train,test-Loss of Model while Training"
      ]
    },
    {
      "cell_type": "code",
      "metadata": {
        "colab_type": "code",
        "id": "Hrjg5n2R1WPh",
        "outputId": "7edf5842-e1c4-4658-fdbf-d02114881160",
        "colab": {
          "base_uri": "https://localhost:8080/",
          "height": 573
        }
      },
      "source": [
        "# Plot training & validation accuracy values\n",
        "plt.plot(history.history['acc'])\n",
        "plt.plot(history.history['val_acc'])\n",
        "plt.title('Model accuracy')\n",
        "plt.ylabel('Accuracy')\n",
        "plt.xlabel('Epoch')\n",
        "plt.legend(['Train', 'Test'], loc='upper left')\n",
        "plt.show()\n",
        "\n",
        "# Plot training & validation loss values\n",
        "plt.plot(history.history['loss'])\n",
        "plt.plot(history.history['val_loss'])\n",
        "plt.title('Model loss')\n",
        "plt.ylabel('Loss')\n",
        "plt.xlabel('Epoch')\n",
        "plt.legend(['Train', 'Test'], loc='upper left')\n",
        "plt.show()"
      ],
      "execution_count": 0,
      "outputs": [
        {
          "output_type": "display_data",
          "data": {
            "image/png": "[encoded data removed]",
            "text/plain": [
              "<Figure size 432x288 with 1 Axes>"
            ]
          },
          "metadata": {
            "tags": []
          }
        },
        {
          "output_type": "display_data",
          "data": {
            "image/png": "[encoded data removed]",
            "text/plain": [
              "<Figure size 432x288 with 1 Axes>"
            ]
          },
          "metadata": {
            "tags": []
          }
        }
      ]
    },
    {
      "cell_type": "markdown",
      "metadata": {
        "colab_type": "text",
        "id": "bnO5BF9j2ZM1"
      },
      "source": [
        "### 6.2-Train-Confusion Matrix"
      ]
    },
    {
      "cell_type": "code",
      "metadata": {
        "colab_type": "code",
        "id": "VeHYTMb54rEd",
        "colab": {}
      },
      "source": [
        "y_predicted_train = model_1.predict([musk_molecule_padded[:5275],musk_numerical_train])"
      ],
      "execution_count": 0,
      "outputs": []
    },
    {
      "cell_type": "code",
      "metadata": {
        "colab_type": "code",
        "id": "WXBHyp6_3WnB",
        "colab": {}
      },
      "source": [
        "y_predicted_label= [np.argmax(y_predicted_train[i]) for i in range(y_predicted_train.shape[0])]"
      ],
      "execution_count": 0,
      "outputs": []
    },
    {
      "cell_type": "code",
      "metadata": {
        "colab_type": "code",
        "id": "k4nlvV8a1ZjM",
        "outputId": "5b4e9c70-cfed-4ced-8aab-e75297ff02a5",
        "colab": {
          "base_uri": "https://localhost:8080/",
          "height": 300
        }
      },
      "source": [
        "print(\"Train confusion matrix\")\n",
        "cm=confusion_matrix(musk_df['class'][:5275], y_predicted_label)\n",
        "print(sns.heatmap(cm,annot=True,fmt='.5g'))"
      ],
      "execution_count": 0,
      "outputs": [
        {
          "output_type": "stream",
          "text": [
            "Train confusion matrix\n",
            "AxesSubplot(0.125,0.125;0.62x0.755)\n"
          ],
          "name": "stdout"
        },
        {
          "output_type": "display_data",
          "data": {
            "image/png": "[encoded data removed]",
            "text/plain": [
              "<Figure size 432x288 with 2 Axes>"
            ]
          },
          "metadata": {
            "tags": []
          }
        }
      ]
    },
    {
      "cell_type": "code",
      "metadata": {
        "colab_type": "code",
        "id": "alAhL5L029xz",
        "outputId": "cc3e4ba8-fc43-4d36-cf18-b28657234745",
        "colab": {
          "base_uri": "https://localhost:8080/",
          "height": 177
        }
      },
      "source": [
        "from sklearn.metrics import classification_report\n",
        "\n",
        "print(classification_report(musk_df['class'][:5275], y_predicted_label))"
      ],
      "execution_count": 0,
      "outputs": [
        {
          "output_type": "stream",
          "text": [
            "              precision    recall  f1-score   support\n",
            "\n",
            "           0       1.00      1.00      1.00      4463\n",
            "           1       1.00      1.00      1.00       812\n",
            "\n",
            "    accuracy                           1.00      5275\n",
            "   macro avg       1.00      1.00      1.00      5275\n",
            "weighted avg       1.00      1.00      1.00      5275\n",
            "\n"
          ],
          "name": "stdout"
        }
      ]
    },
    {
      "cell_type": "markdown",
      "metadata": {
        "colab_type": "text",
        "id": "6rduRAP-4fTv"
      },
      "source": [
        "### 6.3-TEST-Confusion Matrix"
      ]
    },
    {
      "cell_type": "code",
      "metadata": {
        "colab_type": "code",
        "id": "2acVcSHE4aPw",
        "colab": {}
      },
      "source": [
        "y_predicted_test = model_1.predict([musk_molecule_padded[5275:],musk_numerical_test])"
      ],
      "execution_count": 0,
      "outputs": []
    },
    {
      "cell_type": "code",
      "metadata": {
        "colab_type": "code",
        "id": "WQ31rJWO4w9n",
        "colab": {}
      },
      "source": [
        "y_predicted_label= [np.argmax(y_predicted_test[i]) for i in range(y_predicted_test.shape[0])]"
      ],
      "execution_count": 0,
      "outputs": []
    },
    {
      "cell_type": "code",
      "metadata": {
        "colab_type": "code",
        "id": "lcUS--yF407F",
        "outputId": "394b3ce7-956d-4d4c-bd06-4eaaaded419b",
        "colab": {
          "base_uri": "https://localhost:8080/",
          "height": 300
        }
      },
      "source": [
        "print(\"TEST confusion matrix\")\n",
        "cm=confusion_matrix(musk_df['class'][5275:], y_predicted_label)\n",
        "print(sns.heatmap(cm,annot=True,fmt='.5g'))"
      ],
      "execution_count": 0,
      "outputs": [
        {
          "output_type": "stream",
          "text": [
            "TEST confusion matrix\n",
            "AxesSubplot(0.125,0.125;0.62x0.755)\n"
          ],
          "name": "stdout"
        },
        {
          "output_type": "display_data",
          "data": {
            "image/png": "[encoded data removed]",
            "text/plain": [
              "<Figure size 432x288 with 2 Axes>"
            ]
          },
          "metadata": {
            "tags": []
          }
        }
      ]
    },
    {
      "cell_type": "code",
      "metadata": {
        "colab_type": "code",
        "id": "UT0B9J3l45Xw",
        "outputId": "4d6d329c-6dd6-4779-caec-d4c80a292a1c",
        "colab": {
          "base_uri": "https://localhost:8080/",
          "height": 177
        }
      },
      "source": [
        "from sklearn.metrics import classification_report\n",
        "\n",
        "print(classification_report(musk_df['class'][5275:], y_predicted_label))"
      ],
      "execution_count": 0,
      "outputs": [
        {
          "output_type": "stream",
          "text": [
            "              precision    recall  f1-score   support\n",
            "\n",
            "           0       1.00      1.00      1.00      1118\n",
            "           1       1.00      1.00      1.00       205\n",
            "\n",
            "    accuracy                           1.00      1323\n",
            "   macro avg       1.00      1.00      1.00      1323\n",
            "weighted avg       1.00      1.00      1.00      1323\n",
            "\n"
          ],
          "name": "stdout"
        }
      ]
    }
  ]
}